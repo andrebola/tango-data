{
 "cells": [
  {
   "cell_type": "markdown",
   "metadata": {},
   "source": [
    " - Artist: \n",
    "type (person, group, orchestra), begin place , end place, begin date, end date, identifier, external identifier(dbpedia, musicbrainz, otras fuentes), name, gender, alias (variaciones del nombre), related artists (cada relación con un tipo: Colaborador, tocaron juntos, hicieron giras)\n",
    "\n",
    " - Work (composicion)\n",
    "title, identifier, external identifier, composer, lyricist, date, place, lyric? score?\n",
    "\n",
    " - Recording (grabación de una canción, por ejemplo una grabación en vivo de una canción es un recording distinto de una grabación en estudio de la misma canción): duration, work, performers(cada uno con un instrumento asociado), identifier, external identifiers, duration, title, audio(link externo: spotify, soundcloud, etc. Link interno?), video(link externos youtube, etc), \n",
    "\n",
    " - Release (album)\n",
    "title, date, primary artist, identifier, external identifier, list of recordings\n",
    "\n",
    " - Genres or Epochs\n",
    "Esta información tal vez puede ser extraída de las diferentes fuentes de información.\n",
    "Artistas relacionados, epoca?"
   ]
  },
  {
   "cell_type": "code",
   "execution_count": 354,
   "metadata": {
    "collapsed": true
   },
   "outputs": [],
   "source": [
    "import json\n",
    "\n",
    "artists = json.load(open(\"data/artists.json\"))\n",
    "works = json.load(open(\"data/works.json\"))"
   ]
  },
  {
   "cell_type": "markdown",
   "metadata": {},
   "source": [
    "Load in artists_new cleaned artists with new id generated."
   ]
  },
  {
   "cell_type": "code",
   "execution_count": 355,
   "metadata": {
    "collapsed": false
   },
   "outputs": [],
   "source": [
    "month = {'enero':1,'febrero':2,'marzo':3, 'abril':4, 'mayo':5, 'junio':6, 'julio':7, 'agosto':8, 'septiembre':9, 'octubre':10, 'noviembre':11, 'diciembre':12}\n",
    "categories = {u'Carteto T\\xedpico': 'Group',\n",
    "        u'Conjunto': 'Group',\n",
    "        u'Conjunto coral': 'Group',\n",
    "        u'Conjunto de guitarras': 'Group',\n",
    "        u'Cuarteto': 'Group',\n",
    "        u'Cuarteto T\\xedpico': 'Group',\n",
    "        u'Cuarteto de tango': 'Group',\n",
    "        u'D\\xfao de guitarras': 'Group',\n",
    "        u'D\\xfao de piano ': 'Group',\n",
    "        u'D\\xfao de tango': 'Group',\n",
    "        u'M\\xfasicos': 'Group',\n",
    "        u'Orquesta': 'Orchestra',\n",
    "        u'Orquesta T\\xedpica': 'Orchestra',\n",
    "        u'Orquesta de cuerdas tensadas ': 'Orchestra',\n",
    "        u'Quinteto': 'Group',\n",
    "        u'Quinteto T\\xedpico': 'Group',\n",
    "        u'Tr\\xedo': 'Group',\n",
    "        u'Tr\\xedo de guitarras ': 'Group',\n",
    "        u'Tr\\xedo de viol\\xedn': 'Group',\n",
    "        u'Tr\\xedo vocal': 'Group'\n",
    "    }\n",
    "artist_map = {}\n",
    "artist_map['http://www.todotango.com/creadores/ficha/116/Carlos-Gardel'] = 1794\n",
    "artists_new = []\n",
    "identifier = 0\n",
    "for j in artists:\n",
    "    artist_type = ''\n",
    "    short_description = j['category']\n",
    "    external_id= {'todotango': j['artist_url']}\n",
    "    begin_place = ''\n",
    "    if j['place_b'] and len(j['place_b']):\n",
    "        begin_place = j['place_b'][0].strip()\n",
    "    name = j['name']\n",
    "    alias = []\n",
    "    if j['real_name']:\n",
    "        alias.append(j['real_name'])\n",
    "        ''\n",
    "    if j['pseudonym']:\n",
    "        alias.append(j['real_name'])\n",
    "    if j['dates']:\n",
    "        dates = j['dates'].replace('(', '').replace(')', '').split(' - ')\n",
    "        begin_date = None\n",
    "        if dates[0] and dates[0] != 'n/d':\n",
    "            b_date = dates[0].split(' ')\n",
    "\n",
    "            if len(b_date)>1 and b_date[0] in month:\n",
    "                begin_date = ['', month[b_date[0]], b_date[1]]\n",
    "            elif len(b_date)>1 and b_date[1] in month:\n",
    "                begin_date = [b_date[0], month[b_date[1]]]\n",
    "                if len(b_date) ==3:\n",
    "                    begin_date.append(b_date[2])\n",
    "            else:\n",
    "                begin_date = ['', '', b_date[0]]\n",
    "        end_date = None\n",
    "        if dates[1] and dates[1] != 'n/d':\n",
    "            e_date = dates[1].split(' ')\n",
    "\n",
    "            if len(e_date) > 1 and e_date[0] in month:\n",
    "                end_date = ['', month[e_date[0]], e_date[1]]\n",
    "            elif len(e_date) > 1 and e_date[1] in month:\n",
    "                end_date = [e_date[0], month[e_date[1]], e_date[2]]\n",
    "            else:\n",
    "                end_date = ['', '', e_date[0]]\n",
    "    if j['category']:\n",
    "        if j['category'] in categories:\n",
    "            artist_type= categories[j['category']]\n",
    "        else:\n",
    "            artist_type = 'Person'\n",
    "    else: \n",
    "        artist_type = None\n",
    "    artists_new.append({'type':artist_type, 'short_description':short_description, \n",
    "                        'external_id': external_id, 'begin_place': begin_place,\n",
    "                        'name':name, 'alias': alias,'begin_date':begin_date, \n",
    "                        'end_date': end_date, 'gender': '', 'id': identifier})\n",
    "    artist_map[j['artist_url']] = identifier\n",
    "    identifier +=1\n",
    "    "
   ]
  },
  {
   "cell_type": "markdown",
   "metadata": {},
   "source": [
    "Load in works_new cleaned works with new id generated"
   ]
  },
  {
   "cell_type": "code",
   "execution_count": 356,
   "metadata": {
    "collapsed": false
   },
   "outputs": [],
   "source": [
    "works_new = []\n",
    "work_map = {}\n",
    "identifier = 0\n",
    "for j in works:\n",
    "    if j['work_url']:\n",
    "        external_id= {'todotango': j['work_url']}\n",
    "        composers = j['composers']\n",
    "        lyricists = j['liricists']\n",
    "        date=[]\n",
    "        if j['year']:\n",
    "            date = ['','',j['year']]\n",
    "\n",
    "        last_br = False\n",
    "        curr_parag = []\n",
    "        lyrics = []\n",
    "        for k in j['lyrics']:\n",
    "            if k =='<br>':\n",
    "                if last_br:\n",
    "                    lyrics.append(curr_parag)\n",
    "                    curr_parag = []\n",
    "                    last_br = False\n",
    "                else:\n",
    "                    last_br = True\n",
    "            else:\n",
    "                curr_parag.append(k)\n",
    "                last_br = False\n",
    "        if len(curr_parag):\n",
    "            lyrics.append(curr_parag)\n",
    "        works_new.append({'title': j['title'], 'id':identifier, \n",
    "                          'external_id': external_id, 'composers': composers,\n",
    "                          'lyricists': lyricists, 'date': date, 'lyric': lyrics})\n",
    "        work_map[j['work_url']] = identifier\n",
    "        identifier+=1"
   ]
  },
  {
   "cell_type": "markdown",
   "metadata": {
    "collapsed": false
   },
   "source": [
    "Generate recording list, identifing entities from text and merging list on works and artists."
   ]
  },
  {
   "cell_type": "code",
   "execution_count": 367,
   "metadata": {
    "collapsed": false,
    "scrolled": false
   },
   "outputs": [],
   "source": [
    "recordings_aux = []\n",
    "recordings = []\n",
    "identifier = 0\n",
    "for i in artists:\n",
    "    if not i['artist_url'] in artist_map:\n",
    "        print i['artist_url']\n",
    "    for r in i['recordings']:\n",
    "        #work_map[r['r_id'][0]]\n",
    "        #recordings.append(r)\n",
    "        same = False\n",
    "        index = 0\n",
    "        for r2 in recordings_aux:\n",
    "            if (len(r2['r_name'])  == len(r['r_name']) and (len(r['r_name']) ==0 or r2['r_name'][0] == r['r_name'][0])) and \\\n",
    "            (len(r2['r_id']) == len(r['r_id']) and (len(r['r_id']) ==0 or r2['r_id'][0] == r['r_id'][0])) and \\\n",
    "            (len(r2['r_description']) ==  len(r['r_description']) and (len(r2['r_description']) == 0 or r2['r_description'][0] == r['r_description'][0])) and \\\n",
    "            (len(r2['r_performer_type']) == len(r['r_performer_type']) and (len(r2['r_performer_type']) == 0 or r2['r_performer_type'][0] == r['r_performer_type'][0])) and \\\n",
    "            (len(r2['r_performer'])== len(r['r_performer']) and (len(r2['r_performer']) == 0 or r2['r_performer'][0] == r['r_performer'][0])) and \\\n",
    "            (len(r2['r_type'])== len(r['r_type']) and (len(r2['r_type']) ==0 or r2['r_type'][0] == r['r_type'][0])) and \\\n",
    "            (len(r2['r_vocal'])== len(r['r_vocal']) and (len(r2['r_vocal']) ==0 or r2['r_vocal'][0] == r['r_vocal'][0])):\n",
    "                same = True\n",
    "                break\n",
    "            else:\n",
    "                index +=1\n",
    "        if not same:\n",
    "            if not r['r_id'][0] in work_map:\n",
    "                for w in works_new:  \n",
    "                    if '/'+r['r_id'][0].split('/')[5]+'/' in w['external_id']['todotango']:\n",
    "                        w_id = w['id']\n",
    "            else:\n",
    "                w_id = work_map[r['r_id'][0]]\n",
    "            performer = None\n",
    "            if len(r['r_performer'])>0:\n",
    "                performer = r['r_performer'][0]\n",
    "            performer_type = None\n",
    "            if len(r['r_performer_type'])>0:\n",
    "                performer_type = r['r_performer_type'][0]\n",
    "                \n",
    "            description = None\n",
    "            if len(r['r_description'])>0:\n",
    "                description = r['r_description'][0]    \n",
    "            recordings.append({'work': w_id, 'id': identifier, 'name': r['r_name'][0],\n",
    "                               'performer': performer,'performer_type':performer_type, \n",
    "                               'vocal': r['r_vocal'][0], 'description': description,\n",
    "                              'artist': [artist_map[i['artist_url']]]})\n",
    "            recordings_aux.append(r)\n",
    "            identifier += 1 \n",
    "        else:\n",
    "            if artist_map[i['artist_url']] not in recordings[index]['artist']:\n",
    "                recordings[index]['artist'].append(artist_map[i['artist_url']])\n",
    "        \n",
    "        \n",
    "aux_works =[]\n",
    "recordings2 = []\n",
    "for i in works:\n",
    "    for r in i['recordings']:\n",
    "        recordings2.append({'r_description':r['r_description'], 'r_performer': r['r_performer'],\n",
    " 'r_performer_type': r['r_performer_type'],\n",
    " 'r_type': r['r_type'],\n",
    " 'r_vocal': r['r_vocal'],\n",
    " 'r_id': [i['work_url']],\n",
    "  'r_name': [i['title']]})\n",
    "\n",
    "for r in recordings2:\n",
    "    same = False\n",
    "    for r2 in recordings_aux:\n",
    "            if (len(r2['r_name'])  == len(r['r_name']) and (len(r['r_name']) ==0 or r2['r_name'][0] == r['r_name'][0])) and \\\n",
    "            (len(r2['r_id']) == len(r['r_id']) and (len(r['r_id']) ==0 or r2['r_id'][0] == r['r_id'][0])) and \\\n",
    "            (len(r2['r_description']) ==  len(r['r_description']) and (len(r2['r_description']) == 0 or r2['r_description'][0] == r['r_description'][0])) and \\\n",
    "            (len(r2['r_performer_type']) == len(r['r_performer_type']) and (len(r2['r_performer_type']) == 0 or r2['r_performer_type'][0] == r['r_performer_type'][0])) and \\\n",
    "            (len(r2['r_performer'])== len(r['r_performer']) and (len(r2['r_performer']) == 0 or r2['r_performer'][0] == r['r_performer'][0])) and \\\n",
    "            (len(r2['r_type'])== len(r['r_type']) and (len(r2['r_type']) ==0 or r2['r_type'][0] == r['r_type'][0])) and \\\n",
    "            (len(r2['r_vocal'])== len(r['r_vocal']) and (len(r2['r_vocal']) ==0 or r2['r_vocal'][0] == r['r_vocal'][0])):\n",
    "                same = True\n",
    "    if not same :\n",
    "        performer = None\n",
    "        if len(r['r_performer'])>0:\n",
    "            performer = r['r_performer'][0]\n",
    "        performer_type = None\n",
    "        if len(r['r_performer_type'])>0:\n",
    "            performer_type = r['r_performer_type'][0]\n",
    "\n",
    "        description = None\n",
    "        if len(r['r_description'])>0:\n",
    "            description = r['r_description'][0]\n",
    "        w_id = work_map[r['r_id'][0]]\n",
    "        recordings.append({'work': w_id, 'id': identifier, 'name': r['r_name'][0],\n",
    "                               'performer': performer,'performer_type':performer_type, \n",
    "                               'vocal': r['r_vocal'][0], 'description': description,\n",
    "                              'artist': []})\n",
    "        recordings_aux.append(r)\n",
    "        identifier += 1 \n"
   ]
  },
  {
   "cell_type": "markdown",
   "metadata": {},
   "source": [
    "On recordings identified add links to audio files."
   ]
  },
  {
   "cell_type": "code",
   "execution_count": 358,
   "metadata": {
    "collapsed": false
   },
   "outputs": [],
   "source": [
    "count_same = 0\n",
    "count_not_same = []\n",
    "\n",
    "def add_audio(audio_list):\n",
    "    global count_same, count_not_same\n",
    "    for a in audio_list:\n",
    "        index = 0\n",
    "        same = False\n",
    "        for r2 in recordings:\n",
    "            if (r2['name'] == a['titulo']) and \\\n",
    "            (r2['description'] and r2['description'] == a['detalles']) and \\\n",
    "            (((not r2['performer'] and a['formacion'].strip()=='') or r2['performer'] and r2['performer'] in a['formacion'])\\\n",
    "            or r2['performer_type'].strip() == a['formacion'].strip()):\n",
    "                \n",
    "                same = True \n",
    "                break\n",
    "            else:\n",
    "                index +=1\n",
    "        if same:\n",
    "            count_same +=1\n",
    "            if not 'audio' in recordings[index]:\n",
    "                recordings[index]['audio'] = {'todotango': []}\n",
    "            if not a['mp3'] in recordings[index]['audio']['todotango']:\n",
    "                recordings[index]['audio']['todotango'].append(a['mp3'])\n",
    "            if not 'duracion' in recordings[index] or recordings[index]['duracion'] != a['duracion']:\n",
    "                recordings[index]['duracion'] = a['duracion']\n",
    "        else:\n",
    "            count_not_same.append(a)\n",
    "            \n",
    "# audio list structure is the same for artists and works\n",
    "for w in artists:\n",
    "    add_audio(w['audio'])\n",
    "            \n",
    "for w in works:\n",
    "    add_audio(w['audio'])\n",
    "    "
   ]
  },
  {
   "cell_type": "markdown",
   "metadata": {},
   "source": [
    "Now change text in performer and vocal for reference in artist"
   ]
  },
  {
   "cell_type": "code",
   "execution_count": 359,
   "metadata": {
    "collapsed": false
   },
   "outputs": [],
   "source": [
    "for r in recordings:\n",
    "    artists_ids = []\n",
    "    added = []\n",
    "    for a in r['artist']:\n",
    "        if artists_new[a]['name'] == r['vocal'].replace('Canta ', ''):\n",
    "            artists_ids.append({'id': a, 'type': 'vocals'})\n",
    "            added.append(a)\n",
    "        elif artists_new[a]['name'] == r['performer']:\n",
    "            artists_ids.append({'id': a, 'type': r['performer_type']})\n",
    "            added.append(a)\n",
    "    for a in r['artist']:\n",
    "        if a not in added:\n",
    "            if artists_new[a]['name'] in r['vocal'].replace('Canta ', ''):\n",
    "                artists_ids.append({'id': a, 'type': 'vocals'})\n",
    "                added.append(a)\n",
    "            elif artists_new[a]['name'] in r['performer']:\n",
    "                artists_ids.append({'id': a, 'type': r['performer_type']})\n",
    "                added.append(a)\n",
    "    for a in r['artist']:\n",
    "        if a not in added:\n",
    "            artists_ids.append({'id': a, 'type': None})\n",
    "    r['artist'] = artists_ids\n",
    "    del r['vocal']\n",
    "    del r['performer_type']\n",
    "    del r['performer']"
   ]
  },
  {
   "cell_type": "markdown",
   "metadata": {},
   "source": [
    "Finally, change composers and lyricists from url of todotango to id"
   ]
  },
  {
   "cell_type": "code",
   "execution_count": 362,
   "metadata": {
    "collapsed": false
   },
   "outputs": [],
   "source": [
    "for w in works_new:\n",
    "    composers = []\n",
    "    for c in w['composers']:\n",
    "        a_id = None\n",
    "        if not c in artist_map:\n",
    "            for a in artists_new:  \n",
    "                if '/'+c.split('/')[5]+'/' in a['external_id']['todotango']:\n",
    "                    a_id = a['id']\n",
    "        else:\n",
    "            a_id = artist_map[c]\n",
    "        if a_id:\n",
    "            composers.append(a_id)\n",
    "        else:\n",
    "            print w['composers']\n",
    "    lyricists = []\n",
    "    for c in w['lyricists']:\n",
    "        a_id = None\n",
    "        if not c in artist_map:\n",
    "            for a in artists_new:  \n",
    "                if '/'+c.split('/')[5]+'/' in a['external_id']['todotango']:\n",
    "                    a_id = a['id']\n",
    "        else:\n",
    "            a_id = artist_map[c]\n",
    "        if a_id:\n",
    "            lyricists.append(a_id)\n",
    "        else:\n",
    "            print w['lyricists']\n",
    "    w['lyricists'] = lyricists\n",
    "    w['composers'] = composers\n",
    "        "
   ]
  },
  {
   "cell_type": "markdown",
   "metadata": {
    "collapsed": false
   },
   "source": [
    "Save lists"
   ]
  },
  {
   "cell_type": "code",
   "execution_count": 369,
   "metadata": {
    "collapsed": false
   },
   "outputs": [
    {
     "name": "stdout",
     "output_type": "stream",
     "text": [
      "9660\n",
      "4419\n",
      "7044\n"
     ]
    }
   ],
   "source": [
    "with open('data/clean/works.json', 'w') as outfile:\n",
    "    json.dump(works_new, outfile)\n",
    "    print len(works_new)\n",
    "with open('data/clean/artists.json', 'w') as outfile:\n",
    "    json.dump(artists_new, outfile)\n",
    "    print len(artists_new)\n",
    "with open('data/clean/recordings.json', 'w') as outfile:\n",
    "    json.dump(recordings, outfile)\n",
    "    print len(recordings)"
   ]
  }
 ],
 "metadata": {
  "kernelspec": {
   "display_name": "Python 2",
   "language": "python",
   "name": "python2"
  },
  "language_info": {
   "codemirror_mode": {
    "name": "ipython",
    "version": 2
   },
   "file_extension": ".py",
   "mimetype": "text/x-python",
   "name": "python",
   "nbconvert_exporter": "python",
   "pygments_lexer": "ipython2",
   "version": "2.7.10"
  }
 },
 "nbformat": 4,
 "nbformat_minor": 1
}
