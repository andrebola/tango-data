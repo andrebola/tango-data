{
 "cells": [
  {
   "cell_type": "markdown",
   "metadata": {},
   "source": [
    " - Artist: \n",
    "type (person, group, orchestra), begin place , end place, begin date, end date, identifier, external identifier(dbpedia, musicbrainz, otras fuentes), name, gender, alias (variaciones del nombre), related artists (cada relación con un tipo: Colaborador, tocaron juntos, hicieron giras)\n",
    "\n",
    " - Work (composicion)\n",
    "title, identifier, external identifier, composer, lyricist, date, place, lyric? score?\n",
    "\n",
    " - Recording (grabación de una canción, por ejemplo una grabación en vivo de una canción es un recording distinto de una grabación en estudio de la misma canción): duration, work, performers(cada uno con un instrumento asociado), identifier, external identifiers, duration, title, audio(link externo: spotify, soundcloud, etc. Link interno?), video(link externos youtube, etc), \n",
    "\n",
    " - Release (album)\n",
    "title, date, primary artist, identifier, external identifier, list of recordings\n",
    "\n",
    " - Genres or Epochs\n",
    "Esta información tal vez puede ser extraída de las diferentes fuentes de información.\n",
    "Artistas relacionados, epoca?"
   ]
  },
  {
   "cell_type": "code",
   "execution_count": 1,
   "metadata": {
    "collapsed": true
   },
   "outputs": [],
   "source": [
    "import json\n",
    "import requests\n",
    "from collections import Counter\n",
    "\n",
    "artists = json.load(open(\"data/artists.json\"))\n",
    "works = json.load(open(\"data/works.json\"))"
   ]
  },
  {
   "cell_type": "markdown",
   "metadata": {},
   "source": [
    "Load in artists_new cleaned artists with new id generated."
   ]
  },
  {
   "cell_type": "code",
   "execution_count": 2,
   "metadata": {
    "collapsed": false
   },
   "outputs": [],
   "source": [
    "month = {'enero':1,'febrero':2,'marzo':3, 'abril':4, 'mayo':5, 'junio':6, 'julio':7, 'agosto':8, 'septiembre':9, 'octubre':10, 'noviembre':11, 'diciembre':12}\n",
    "categories = {u'Carteto T\\xedpico': 'Group',\n",
    "        u'Conjunto': 'Group',\n",
    "        u'Conjunto coral': 'Group',\n",
    "        u'Conjunto de guitarras': 'Group',\n",
    "        u'Cuarteto': 'Group',\n",
    "        u'Cuarteto T\\xedpico': 'Group',\n",
    "        u'Cuarteto de tango': 'Group',\n",
    "        u'D\\xfao de guitarras': 'Group',\n",
    "        u'D\\xfao de piano ': 'Group',\n",
    "        u'D\\xfao de tango': 'Group',\n",
    "        u'M\\xfasicos': 'Group',\n",
    "        u'Orquesta': 'Orchestra',\n",
    "        u'Orquesta T\\xedpica': 'Orchestra',\n",
    "        u'Orquesta de cuerdas tensadas ': 'Orchestra',\n",
    "        u'Quinteto': 'Group',\n",
    "        u'Quinteto T\\xedpico': 'Group',\n",
    "        u'Tr\\xedo': 'Group',\n",
    "        u'Tr\\xedo de guitarras ': 'Group',\n",
    "        u'Tr\\xedo de viol\\xedn': 'Group',\n",
    "        u'Tr\\xedo vocal': 'Group'\n",
    "    }\n",
    "artist_map = {}\n",
    "artist_map['http://www.todotango.com/creadores/ficha/116/Carlos-Gardel'] = 1794\n",
    "artists_new = []\n",
    "identifier = 0\n",
    "for j in artists:\n",
    "    artist_type = ''\n",
    "    short_description = j['category']\n",
    "    external_id= {'todotango': j['artist_url']}\n",
    "    begin_place = ''\n",
    "    if j['place_b'] and len(j['place_b']):\n",
    "        begin_place = j['place_b'][0].strip()\n",
    "    name = j['name']\n",
    "    alias = []\n",
    "    if j['real_name']:\n",
    "        alias.append(j['real_name'])\n",
    "        ''\n",
    "    if j['pseudonym']:\n",
    "        alias.append(j['real_name'])\n",
    "    if j['dates']:\n",
    "        dates = j['dates'].replace('(', '').replace(')', '').split(' - ')\n",
    "        begin_date = None\n",
    "        if dates[0] and dates[0] != 'n/d':\n",
    "            b_date = dates[0].split(' ')\n",
    "\n",
    "            if len(b_date)>1 and b_date[0] in month:\n",
    "                begin_date = ['', month[b_date[0]], b_date[1]]\n",
    "            elif len(b_date)>1 and b_date[1] in month:\n",
    "                begin_date = [b_date[0], month[b_date[1]]]\n",
    "                if len(b_date) ==3:\n",
    "                    begin_date.append(b_date[2])\n",
    "            else:\n",
    "                begin_date = ['', '', b_date[0]]\n",
    "        end_date = None\n",
    "        if dates[1] and dates[1] != 'n/d':\n",
    "            e_date = dates[1].split(' ')\n",
    "\n",
    "            if len(e_date) > 1 and e_date[0] in month:\n",
    "                end_date = ['', month[e_date[0]], e_date[1]]\n",
    "            elif len(e_date) > 1 and e_date[1] in month:\n",
    "                end_date = [e_date[0], month[e_date[1]], e_date[2]]\n",
    "            else:\n",
    "                end_date = ['', '', e_date[0]]\n",
    "    if j['category']:\n",
    "        if j['category'] in categories:\n",
    "            artist_type= categories[j['category']]\n",
    "        else:\n",
    "            artist_type = 'Person'\n",
    "    else: \n",
    "        artist_type = None\n",
    "    artists_new.append({'type':artist_type, 'short_description':short_description, \n",
    "                        'external_id': external_id, 'begin_place': begin_place,\n",
    "                        'name':name, 'alias': alias,'begin_date':begin_date, \n",
    "                        'end_date': end_date, 'gender': '', 'id': identifier})\n",
    "    artist_map[j['artist_url']] = identifier\n",
    "    identifier +=1\n",
    "    "
   ]
  },
  {
   "cell_type": "markdown",
   "metadata": {},
   "source": [
    "Load in works_new cleaned works with new id generated"
   ]
  },
  {
   "cell_type": "code",
   "execution_count": 3,
   "metadata": {
    "collapsed": false
   },
   "outputs": [],
   "source": [
    "works_new = []\n",
    "work_map = {}\n",
    "identifier = 0\n",
    "for j in works:\n",
    "    if j['work_url']:\n",
    "        external_id= {'todotango': j['work_url']}\n",
    "        composers = j['composers']\n",
    "        lyricists = j['liricists']\n",
    "        date=[]\n",
    "        if j['year']:\n",
    "            date = ['','',j['year']]\n",
    "\n",
    "        last_br = False\n",
    "        curr_parag = []\n",
    "        lyrics = []\n",
    "        for k in j['lyrics']:\n",
    "            if k =='<br>':\n",
    "                if last_br:\n",
    "                    lyrics.append(curr_parag)\n",
    "                    curr_parag = []\n",
    "                    last_br = False\n",
    "                else:\n",
    "                    last_br = True\n",
    "            else:\n",
    "                curr_parag.append(k)\n",
    "                last_br = False\n",
    "        if len(curr_parag):\n",
    "            lyrics.append(curr_parag)\n",
    "        work_type = None\n",
    "        if 'work_type' in j:\n",
    "            work_type = j['work_type']\n",
    "        works_new.append({'title': j['title'], 'id':identifier, \n",
    "                          'external_id': external_id, 'composers': composers,\n",
    "                          'lyricists': lyricists, 'date': date, 'lyric': lyrics,\n",
    "                          'type': work_type})\n",
    "        work_map[j['work_url']] = identifier\n",
    "        identifier+=1"
   ]
  },
  {
   "cell_type": "markdown",
   "metadata": {
    "collapsed": false
   },
   "source": [
    "Generate recording list, identifing entities from text and merging list on works and artists."
   ]
  },
  {
   "cell_type": "code",
   "execution_count": 4,
   "metadata": {
    "collapsed": false,
    "scrolled": false
   },
   "outputs": [],
   "source": [
    "recordings_aux = []\n",
    "recordings = []\n",
    "identifier = 0\n",
    "for i in artists:\n",
    "    if not i['artist_url'] in artist_map:\n",
    "        print i['artist_url']\n",
    "    for r in i['recordings']:\n",
    "        #work_map[r['r_id'][0]]\n",
    "        #recordings.append(r)\n",
    "        same = False\n",
    "        index = 0\n",
    "        for r2 in recordings_aux:\n",
    "            if (len(r2['r_name'])  == len(r['r_name']) and (len(r['r_name']) ==0 or r2['r_name'][0] == r['r_name'][0])) and \\\n",
    "            (len(r2['r_id']) == len(r['r_id']) and (len(r['r_id']) ==0 or r2['r_id'][0] == r['r_id'][0])) and \\\n",
    "            (len(r2['r_description']) ==  len(r['r_description']) and (len(r2['r_description']) == 0 or r2['r_description'][0] == r['r_description'][0])) and \\\n",
    "            (len(r2['r_performer_type']) == len(r['r_performer_type']) and (len(r2['r_performer_type']) == 0 or r2['r_performer_type'][0] == r['r_performer_type'][0])) and \\\n",
    "            (len(r2['r_performer'])== len(r['r_performer']) and (len(r2['r_performer']) == 0 or r2['r_performer'][0] == r['r_performer'][0])) and \\\n",
    "            (len(r2['r_type'])== len(r['r_type']) and (len(r2['r_type']) ==0 or r2['r_type'][0] == r['r_type'][0])) and \\\n",
    "            (len(r2['r_vocal'])== len(r['r_vocal']) and (len(r2['r_vocal']) ==0 or r2['r_vocal'][0] == r['r_vocal'][0])):\n",
    "                same = True\n",
    "                break\n",
    "            else:\n",
    "                index +=1\n",
    "        if not same:\n",
    "            if not r['r_id'][0] in work_map:\n",
    "                for w in works_new:  \n",
    "                    if '/'+r['r_id'][0].split('/')[5]+'/' in w['external_id']['todotango']:\n",
    "                        w_id = w['id']\n",
    "            else:\n",
    "                w_id = work_map[r['r_id'][0]]\n",
    "            performer = None\n",
    "            if len(r['r_performer'])>0:\n",
    "                performer = r['r_performer'][0]\n",
    "            performer_type = None\n",
    "            if len(r['r_performer_type'])>0:\n",
    "                performer_type = r['r_performer_type'][0]\n",
    "                \n",
    "            description = None\n",
    "            if len(r['r_description'])>0:\n",
    "                description = r['r_description'][0]    \n",
    "            recordings.append({'work': w_id, 'id': identifier, 'name': r['r_name'][0],\n",
    "                               'performer': performer,'performer_type':performer_type, \n",
    "                               'vocal': r['r_vocal'][0], 'description': description,\n",
    "                              'type': r['r_type'], 'artist': [artist_map[i['artist_url']]]})\n",
    "            recordings_aux.append(r)\n",
    "            identifier += 1 \n",
    "        else:\n",
    "            if artist_map[i['artist_url']] not in recordings[index]['artist']:\n",
    "                recordings[index]['artist'].append(artist_map[i['artist_url']])\n",
    "        \n",
    "        \n",
    "aux_works =[]\n",
    "recordings2 = []\n",
    "for i in works:\n",
    "    for r in i['recordings']:\n",
    "        recordings2.append({'r_description':r['r_description'], 'r_performer': r['r_performer'],\n",
    " 'r_performer_type': r['r_performer_type'],\n",
    " 'r_type': r['r_type'],\n",
    " 'r_vocal': r['r_vocal'],\n",
    " 'r_id': [i['work_url']],\n",
    "  'r_name': [i['title']]})\n",
    "\n",
    "for r in recordings2:\n",
    "    same = False\n",
    "    for r2 in recordings_aux:\n",
    "            if (len(r2['r_name'])  == len(r['r_name']) and (len(r['r_name']) ==0 or r2['r_name'][0] == r['r_name'][0])) and \\\n",
    "            (len(r2['r_id']) == len(r['r_id']) and (len(r['r_id']) ==0 or r2['r_id'][0] == r['r_id'][0])) and \\\n",
    "            (len(r2['r_description']) ==  len(r['r_description']) and (len(r2['r_description']) == 0 or r2['r_description'][0] == r['r_description'][0])) and \\\n",
    "            (len(r2['r_performer_type']) == len(r['r_performer_type']) and (len(r2['r_performer_type']) == 0 or r2['r_performer_type'][0] == r['r_performer_type'][0])) and \\\n",
    "            (len(r2['r_performer'])== len(r['r_performer']) and (len(r2['r_performer']) == 0 or r2['r_performer'][0] == r['r_performer'][0])) and \\\n",
    "            (len(r2['r_type'])== len(r['r_type']) and (len(r2['r_type']) ==0 or r2['r_type'][0] == r['r_type'][0])) and \\\n",
    "            (len(r2['r_vocal'])== len(r['r_vocal']) and (len(r2['r_vocal']) ==0 or r2['r_vocal'][0] == r['r_vocal'][0])):\n",
    "                same = True\n",
    "    if not same :\n",
    "        performer = None\n",
    "        if len(r['r_performer'])>0:\n",
    "            performer = r['r_performer'][0]\n",
    "        performer_type = None\n",
    "        if len(r['r_performer_type'])>0:\n",
    "            performer_type = r['r_performer_type'][0]\n",
    "\n",
    "        description = None\n",
    "        if len(r['r_description'])>0:\n",
    "            description = r['r_description'][0]\n",
    "        w_id = work_map[r['r_id'][0]]\n",
    "        recordings.append({'work': w_id, 'id': identifier, 'name': r['r_name'][0],\n",
    "                               'performer': performer,'performer_type':performer_type, \n",
    "                               'vocal': r['r_vocal'][0], 'description': description,\n",
    "                               'type': r['r_type'], 'artist': []})\n",
    "        recordings_aux.append(r)\n",
    "        identifier += 1 \n"
   ]
  },
  {
   "cell_type": "markdown",
   "metadata": {},
   "source": [
    "On recordings identified add links to audio files."
   ]
  },
  {
   "cell_type": "code",
   "execution_count": 5,
   "metadata": {
    "collapsed": false
   },
   "outputs": [],
   "source": [
    "count_same = 0\n",
    "count_not_same = []\n",
    "\n",
    "def add_audio(audio_list):\n",
    "    global count_same, count_not_same\n",
    "    for a in audio_list:\n",
    "        index = 0\n",
    "        same = False\n",
    "        for r2 in recordings:\n",
    "            if (r2['name'] == a['titulo']) and \\\n",
    "            (r2['description'] and r2['description'] == a['detalles']) and \\\n",
    "            (((not r2['performer'] and a['formacion'].strip()=='') or r2['performer'] and r2['performer'] in a['formacion'])\\\n",
    "            or r2['performer_type'].strip() == a['formacion'].strip()):\n",
    "                \n",
    "                same = True \n",
    "                break\n",
    "            else:\n",
    "                index +=1\n",
    "        if same:\n",
    "            count_same +=1\n",
    "            if not 'audio' in recordings[index]:\n",
    "                recordings[index]['audio'] = {'todotango': []}\n",
    "            if not a['mp3'] in recordings[index]['audio']['todotango']:\n",
    "                recordings[index]['audio']['todotango'].append(a['mp3'])\n",
    "            if not 'duracion' in recordings[index] or recordings[index]['duracion'] != a['duracion']:\n",
    "                recordings[index]['duracion'] = a['duracion']\n",
    "        else:\n",
    "            count_not_same.append(a)\n",
    "            \n",
    "# audio list structure is the same for artists and works\n",
    "for w in artists:\n",
    "    add_audio(w['audio'])\n",
    "            \n",
    "for w in works:\n",
    "    add_audio(w['audio'])\n",
    "    "
   ]
  },
  {
   "cell_type": "markdown",
   "metadata": {},
   "source": [
    "Now change text in performer and vocal for reference in artist"
   ]
  },
  {
   "cell_type": "code",
   "execution_count": 6,
   "metadata": {
    "collapsed": false
   },
   "outputs": [],
   "source": [
    "for r in recordings:\n",
    "    artists_ids = []\n",
    "    added = []\n",
    "    for a in r['artist']:\n",
    "        if artists_new[a]['name'] == r['vocal'].replace('Canta ', ''):\n",
    "            artists_ids.append({'id': a, 'type': 'vocals'})\n",
    "            added.append(a)\n",
    "        elif artists_new[a]['name'] == r['performer']:\n",
    "            artists_ids.append({'id': a, 'type': r['performer_type']})\n",
    "            added.append(a)\n",
    "    for a in r['artist']:\n",
    "        if a not in added:\n",
    "            if artists_new[a]['name'] in r['vocal'].replace('Canta ', ''):\n",
    "                artists_ids.append({'id': a, 'type': 'vocals'})\n",
    "                added.append(a)\n",
    "            elif artists_new[a]['name'] in r['performer']:\n",
    "                artists_ids.append({'id': a, 'type': r['performer_type']})\n",
    "                added.append(a)\n",
    "    for a in r['artist']:\n",
    "        if a not in added:\n",
    "            artists_ids.append({'id': a, 'type': None})\n",
    "    r['artist'] = artists_ids\n",
    "    del r['vocal']\n",
    "    del r['performer_type']\n",
    "    del r['performer']"
   ]
  },
  {
   "cell_type": "markdown",
   "metadata": {},
   "source": [
    "Finally, change composers and lyricists from url of todotango to id"
   ]
  },
  {
   "cell_type": "code",
   "execution_count": 7,
   "metadata": {
    "collapsed": false
   },
   "outputs": [],
   "source": [
    "for w in works_new:\n",
    "    composers = []\n",
    "    for c in w['composers']:\n",
    "        a_id = None\n",
    "        if not c in artist_map:\n",
    "            for a in artists_new:  \n",
    "                if '/'+c.split('/')[5]+'/' in a['external_id']['todotango']:\n",
    "                    a_id = a['id']\n",
    "        else:\n",
    "            a_id = artist_map[c]\n",
    "        if a_id:\n",
    "            composers.append(a_id)\n",
    "        else:\n",
    "            print w['composers']\n",
    "    lyricists = []\n",
    "    for c in w['lyricists']:\n",
    "        a_id = None\n",
    "        if not c in artist_map:\n",
    "            for a in artists_new:  \n",
    "                if '/'+c.split('/')[5]+'/' in a['external_id']['todotango']:\n",
    "                    a_id = a['id']\n",
    "        else:\n",
    "            a_id = artist_map[c]\n",
    "        if a_id:\n",
    "            lyricists.append(a_id)\n",
    "        else:\n",
    "            print w['lyricists']\n",
    "    w['lyricists'] = lyricists\n",
    "    w['composers'] = composers\n",
    "        "
   ]
  },
  {
   "cell_type": "markdown",
   "metadata": {
    "collapsed": false
   },
   "source": [
    "Save lists"
   ]
  },
  {
   "cell_type": "code",
   "execution_count": 8,
   "metadata": {
    "collapsed": false
   },
   "outputs": [
    {
     "name": "stdout",
     "output_type": "stream",
     "text": [
      "9660\n",
      "4419\n",
      "7044\n"
     ]
    }
   ],
   "source": [
    "with open('data/clean/works.json', 'w') as outfile:\n",
    "    json.dump(works_new, outfile)\n",
    "    print len(works_new)\n",
    "with open('data/clean/artists.json', 'w') as outfile:\n",
    "    json.dump(artists_new, outfile)\n",
    "    print len(artists_new)\n",
    "with open('data/clean/recordings.json', 'w') as outfile:\n",
    "    json.dump(recordings, outfile)\n",
    "    print len(recordings)"
   ]
  },
  {
   "cell_type": "code",
   "execution_count": 9,
   "metadata": {
    "collapsed": false
   },
   "outputs": [],
   "source": [
    "def get_lyric_form(lyric_array):\n",
    "    lyric = ''\n",
    "    for i in lyric_array:\n",
    "        for j in i:\n",
    "            lyric +=  j + \"\\r\\n\"\n",
    "        lyric += '\\r\\n'\n",
    "    payload = {'format': 'json', 'radio_method': 'song.segment','lyrics_body': lyric}\n",
    "    r = requests.get(\"http://www.lim.di.unimi.it/segmenter/song.segment.php\", params=payload)\n",
    "    return json.loads(r.text)\n",
    "lyrics_form = {}"
   ]
  },
  {
   "cell_type": "code",
   "execution_count": 13,
   "metadata": {
    "collapsed": false
   },
   "outputs": [],
   "source": [
    "\n",
    "for w in works_new:\n",
    "    if w['id'] not in lyrics_form:\n",
    "        lyrics_form[w['id']] = get_lyric_form(w['lyric'])\n",
    "\n",
    "#print ' '.join([i['section']['section.label'] for i in ret])"
   ]
  },
  {
   "cell_type": "code",
   "execution_count": 14,
   "metadata": {
    "collapsed": false
   },
   "outputs": [
    {
     "data": {
      "text/plain": [
       "Counter({'A': 4013,\n",
       "         'AABCD': 1,\n",
       "         'AABCDEFG': 1,\n",
       "         'AB': 39,\n",
       "         'ABABC': 1,\n",
       "         'ABAC': 6,\n",
       "         'ABACAD': 1,\n",
       "         'ABACADAE': 4,\n",
       "         'ABACADAEAF': 1,\n",
       "         'ABACADE': 2,\n",
       "         'ABACADEF': 1,\n",
       "         'ABACBD': 1,\n",
       "         'ABACD': 7,\n",
       "         'ABACDE': 3,\n",
       "         'ABACDEAF': 1,\n",
       "         'ABBBBBBBBBBC': 1,\n",
       "         'ABBBC': 1,\n",
       "         'ABBC': 1,\n",
       "         'ABC': 246,\n",
       "         'ABCABDE': 1,\n",
       "         'ABCAD': 5,\n",
       "         'ABCADE': 1,\n",
       "         'ABCADEF': 11,\n",
       "         'ABCADEFG': 2,\n",
       "         'ABCADEFGH': 1,\n",
       "         'ABCADEFGHI': 1,\n",
       "         'ABCBCDE': 1,\n",
       "         'ABCBD': 27,\n",
       "         'ABCBDBE': 16,\n",
       "         'ABCBDBEBF': 1,\n",
       "         'ABCBDBEBFGH': 1,\n",
       "         'ABCBDBEF': 1,\n",
       "         'ABCBDBEFGHI': 1,\n",
       "         'ABCBDE': 20,\n",
       "         'ABCBDEFGH': 1,\n",
       "         'ABCCD': 1,\n",
       "         'ABCD': 2338,\n",
       "         'ABCDABEF': 1,\n",
       "         'ABCDAE': 10,\n",
       "         'ABCDAEDF': 1,\n",
       "         'ABCDAEF': 5,\n",
       "         'ABCDAEFG': 2,\n",
       "         'ABCDAEFGH': 1,\n",
       "         'ABCDBAEBFG': 1,\n",
       "         'ABCDBCE': 3,\n",
       "         'ABCDBCEF': 2,\n",
       "         'ABCDBDE': 1,\n",
       "         'ABCDBE': 14,\n",
       "         'ABCDBEF': 7,\n",
       "         'ABCDBEFBGHIJ': 1,\n",
       "         'ABCDBEFG': 1,\n",
       "         'ABCDCDEFG': 1,\n",
       "         'ABCDCE': 10,\n",
       "         'ABCDCECF': 1,\n",
       "         'ABCDCEF': 6,\n",
       "         'ABCDCEFG': 2,\n",
       "         'ABCDDCE': 1,\n",
       "         'ABCDE': 1056,\n",
       "         'ABCDEABCF': 1,\n",
       "         'ABCDEABF': 1,\n",
       "         'ABCDEAF': 8,\n",
       "         'ABCDEAFG': 1,\n",
       "         'ABCDEAFGHI': 1,\n",
       "         'ABCDEBCDF': 1,\n",
       "         'ABCDEBCF': 1,\n",
       "         'ABCDEBCFCGH': 1,\n",
       "         'ABCDEBF': 6,\n",
       "         'ABCDEBFDDG': 1,\n",
       "         'ABCDEBFG': 3,\n",
       "         'ABCDECAF': 1,\n",
       "         'ABCDECDCF': 1,\n",
       "         'ABCDECDF': 3,\n",
       "         'ABCDECF': 32,\n",
       "         'ABCDECFCG': 1,\n",
       "         'ABCDECFG': 9,\n",
       "         'ABCDECFGCH': 4,\n",
       "         'ABCDECFGH': 1,\n",
       "         'ABCDECFGHI': 1,\n",
       "         'ABCDECFGHIJK': 1,\n",
       "         'ABCDEDF': 3,\n",
       "         'ABCDEEF': 1,\n",
       "         'ABCDEF': 635,\n",
       "         'ABCDEFABCDG': 1,\n",
       "         'ABCDEFAG': 1,\n",
       "         'ABCDEFAGH': 2,\n",
       "         'ABCDEFAGHIJ': 1,\n",
       "         'ABCDEFBG': 1,\n",
       "         'ABCDEFBGH': 1,\n",
       "         'ABCDEFCDG': 13,\n",
       "         'ABCDEFCDGH': 2,\n",
       "         'ABCDEFCDGHI': 1,\n",
       "         'ABCDEFCG': 1,\n",
       "         'ABCDEFCGH': 11,\n",
       "         'ABCDEFDCG': 1,\n",
       "         'ABCDEFDG': 7,\n",
       "         'ABCDEFDGH': 1,\n",
       "         'ABCDEFDGHIJ': 1,\n",
       "         'ABCDEFEG': 1,\n",
       "         'ABCDEFEGHIJ': 1,\n",
       "         'ABCDEFFG': 1,\n",
       "         'ABCDEFFGHIJEFEFKL': 1,\n",
       "         'ABCDEFG': 505,\n",
       "         'ABCDEFGAH': 1,\n",
       "         'ABCDEFGCDEH': 1,\n",
       "         'ABCDEFGCDHIJ': 1,\n",
       "         'ABCDEFGCH': 5,\n",
       "         'ABCDEFGCHI': 1,\n",
       "         'ABCDEFGDEH': 1,\n",
       "         'ABCDEFGDGH': 1,\n",
       "         'ABCDEFGDH': 7,\n",
       "         'ABCDEFGDHI': 1,\n",
       "         'ABCDEFGDHIJDKLMDNOPCDQ': 1,\n",
       "         'ABCDEFGEH': 1,\n",
       "         'ABCDEFGFH': 1,\n",
       "         'ABCDEFGH': 190,\n",
       "         'ABCDEFGHABI': 1,\n",
       "         'ABCDEFGHAI': 2,\n",
       "         'ABCDEFGHDI': 1,\n",
       "         'ABCDEFGHDIJ': 3,\n",
       "         'ABCDEFGHDIJKLMN': 1,\n",
       "         'ABCDEFGHFI': 2,\n",
       "         'ABCDEFGHGIJ': 1,\n",
       "         'ABCDEFGHHIJ': 1,\n",
       "         'ABCDEFGHI': 132,\n",
       "         'ABCDEFGHICEJ': 1,\n",
       "         'ABCDEFGHIDEJ': 1,\n",
       "         'ABCDEFGHIDJ': 1,\n",
       "         'ABCDEFGHIDJGK': 1,\n",
       "         'ABCDEFGHIDJK': 2,\n",
       "         'ABCDEFGHIEJ': 2,\n",
       "         'ABCDEFGHIEJK': 1,\n",
       "         'ABCDEFGHIFJ': 1,\n",
       "         'ABCDEFGHIJ': 41,\n",
       "         'ABCDEFGHIJAK': 1,\n",
       "         'ABCDEFGHIJAKLMJNO': 1,\n",
       "         'ABCDEFGHIJBCKLMNOPQCR': 1,\n",
       "         'ABCDEFGHIJCKL': 1,\n",
       "         'ABCDEFGHIJDEFGK': 1,\n",
       "         'ABCDEFGHIJEFK': 1,\n",
       "         'ABCDEFGHIJEFKL': 1,\n",
       "         'ABCDEFGHIJEFKLM': 1,\n",
       "         'ABCDEFGHIJEK': 2,\n",
       "         'ABCDEFGHIJFK': 1,\n",
       "         'ABCDEFGHIJK': 31,\n",
       "         'ABCDEFGHIJKABL': 1,\n",
       "         'ABCDEFGHIJKALMDN': 1,\n",
       "         'ABCDEFGHIJKFGL': 1,\n",
       "         'ABCDEFGHIJKFL': 1,\n",
       "         'ABCDEFGHIJKL': 15,\n",
       "         'ABCDEFGHIJKLDM': 1,\n",
       "         'ABCDEFGHIJKLM': 10,\n",
       "         'ABCDEFGHIJKLMFNOPJQ': 1,\n",
       "         'ABCDEFGHIJKLMN': 8,\n",
       "         'ABCDEFGHIJKLMNGHIO': 1,\n",
       "         'ABCDEFGHIJKLMNHIJOPQ': 1,\n",
       "         'ABCDEFGHIJKLMNO': 3,\n",
       "         'ABCDEFGHIJKLMNOHIPQHRS': 1,\n",
       "         'ABCDEFGHIJKLMNOP': 5,\n",
       "         'ABCDEFGHIJKLMNOPQRST': 1})"
      ]
     },
     "execution_count": 14,
     "metadata": {},
     "output_type": "execute_result"
    }
   ],
   "source": [
    "Counter(map(lambda x: ''.join(str(i['section']['section.label']) for i in x), lyrics_form.values()))"
   ]
  },
  {
   "cell_type": "code",
   "execution_count": 15,
   "metadata": {
    "collapsed": false
   },
   "outputs": [],
   "source": [
    "with open('data/output/lyrics_form.json', 'w') as outfile:\n",
    "    json.dump(lyrics_form, outfile)"
   ]
  },
  {
   "cell_type": "code",
   "execution_count": 48,
   "metadata": {
    "collapsed": false
   },
   "outputs": [],
   "source": [
    "import json\n",
    "%matplotlib inline\n",
    "import matplotlib.pyplot as plt"
   ]
  },
  {
   "cell_type": "code",
   "execution_count": 49,
   "metadata": {
    "collapsed": false
   },
   "outputs": [
    {
     "data": {
      "text/plain": [
       "[<matplotlib.lines.Line2D at 0x7f00274fa510>]"
      ]
     },
     "execution_count": 49,
     "metadata": {},
     "output_type": "execute_result"
    },
    {
     "data": {
      "image/png": "[encoded data removed]",
      "text/plain": [
       "<matplotlib.figure.Figure at 0x7f005363c390>"
      ]
     },
     "metadata": {},
     "output_type": "display_data"
    }
   ],
   "source": [
    "recordings = json.load(open('data/clean/recordings.json'))\n",
    "\n",
    "works_rec_map = {}\n",
    "for r in recordings:\n",
    "    if r['work'] not in works_rec_map:\n",
    "        works_rec_map[r['work']] = 0\n",
    "    works_rec_map[r['work']] += 1\n",
    "plt.plot(sorted(works_rec_map.values(), reverse=True))"
   ]
  },
  {
   "cell_type": "code",
   "execution_count": null,
   "metadata": {
    "collapsed": true
   },
   "outputs": [],
   "source": []
  }
 ],
 "metadata": {
  "kernelspec": {
   "display_name": "Python 2",
   "language": "python",
   "name": "python2"
  },
  "language_info": {
   "codemirror_mode": {
    "name": "ipython",
    "version": 2
   },
   "file_extension": ".py",
   "mimetype": "text/x-python",
   "name": "python",
   "nbconvert_exporter": "python",
   "pygments_lexer": "ipython2",
   "version": "2.7.10"
  }
 },
 "nbformat": 4,
 "nbformat_minor": 1
}
