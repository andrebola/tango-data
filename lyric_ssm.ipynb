{
 "cells": [
  {
   "cell_type": "code",
   "execution_count": 53,
   "metadata": {
    "collapsed": false
   },
   "outputs": [],
   "source": [
    "import matplotlib.pyplot as plt\n",
    "import matplotlib\n",
    "%matplotlib inline\n",
    "import json\n",
    "from Levenshtein.StringMatcher import StringMatcher\n",
    "import numpy as np\n",
    "\n",
    "works = json.load(open(\"data/clean/works.json\"))\n",
    "recordings = json.load(open(\"data/clean/recordings.json\"))\n",
    "artists = json.load(open(\"data/clean/artists.json\"))\n",
    "form = json.load(open(\"data/output/lyrics_form.json\"))\n",
    "vocab = json.load(open(\"data/vocab.json\"))"
   ]
  },
  {
   "cell_type": "code",
   "execution_count": 66,
   "metadata": {
    "collapsed": false
   },
   "outputs": [
    {
     "name": "stdout",
     "output_type": "stream",
     "text": [
      "Título(es): La canción inolvidable\n",
      "Compositor(es): Enrique Francini\n",
      "Liricista(s): Carlos Bahr\n",
      "Forma: ABAC\n",
      "\n",
      "Letra: \n",
      "Violín sentimental,\n",
      "vuelve a tocar esa canción inolvidable.\n",
      "Violín, ¿por qué no estás?,\n",
      "quiero creer que estamos juntos como aquella vez.\n",
      "Violín vuelve a tocar\n",
      "como en el dulce tiempo que pasó.\n",
      "Violín, en tu canción\n",
      "vuelve el ayer con su milagro de ilusión.\n",
      "\n",
      "Mi corazón, lo mismo que otros días,\n",
      "vuelve a sentir la magia del amor\n",
      "y a revivir pasadas alegrías\n",
      "por el embrujo emocional de tu canción sentimental.\n",
      "\n",
      "Violín sentimental,\n",
      "vuelve a tocar esa canción inolvidable.\n",
      "Violín, ¿por qué no estás?,\n",
      "quiero creer que estamos juntos como aquella vez.\n",
      "Violín vuelve a tocar\n",
      "como en el dulce tiempo que pasó.\n",
      "Violín, en tu canción\n",
      "vuelve el ayer con su milagro de ilusión.\n",
      "\n",
      "\n"
     ]
    }
   ],
   "source": [
    "id = 5835\n",
    "w = works[id]\n",
    "\n",
    "if len(w['lyric']):\n",
    "    texto = ''\n",
    "    for verso in w['lyric']:\n",
    "        for linea in verso:\n",
    "            texto += linea + '\\n'\n",
    "        texto += '\\n'\n",
    "            \n",
    "print u\"Título(es): %s\" % (w['title'])\n",
    "print \"Compositor(es): %s\" % ''.join([artists[c]['name'] for c in w['composers']])\n",
    "print \"Liricista(s): %s\" % ''.join([artists[l]['name'] for l in w['lyricists']])\n",
    "print \"Forma: %s\" % (''.join([i['section']['section.label'] for i in form[str(id)]]))\n",
    "print \"\"\n",
    "print \"Letra: \"\n",
    "print texto"
   ]
  },
  {
   "cell_type": "code",
   "execution_count": 42,
   "metadata": {
    "collapsed": false
   },
   "outputs": [
    {
     "data": {
      "text/plain": [
       "<matplotlib.image.AxesImage at 0x7f3bc060bad0>"
      ]
     },
     "execution_count": 42,
     "metadata": {},
     "output_type": "execute_result"
    },
    {
     "data": {
      "image/png": "[encoded data removed]",
      "text/plain": [
       "<matplotlib.figure.Figure at 0x7f3bc06ed790>"
      ]
     },
     "metadata": {},
     "output_type": "display_data"
    }
   ],
   "source": [
    "lyric = [item for sublist in w['lyric'] for item in sublist]\n",
    "ssm = np.zeros((len(lyric), len(lyric)), dtype=float)\n",
    "for i in range(len(lyric)):\n",
    "    for j in range(len(lyric)):\n",
    "        lev = StringMatcher(seq1=lyric[i], seq2=lyric[j]).distance()\n",
    "        ssm[i][j] = lev\n",
    "\n",
    "plt.matshow(ssm)"
   ]
  },
  {
   "cell_type": "code",
   "execution_count": 4,
   "metadata": {
    "collapsed": false
   },
   "outputs": [],
   "source": [
    "import json\n",
    "works = json.load(open('./data/clean/works.json'))\n",
    "w = works[20]\n",
    "artists = json.load(open(\"data/clean/artists.json\"))"
   ]
  },
  {
   "cell_type": "code",
   "execution_count": 67,
   "metadata": {
    "collapsed": false
   },
   "outputs": [
    {
     "name": "stdout",
     "output_type": "stream",
     "text": [
      "{'songlyrics': 0, 'lyricswikia': 562, 'musixmatch': 13, 'minilyrics': 1594, 'todotango': 5647, 'lyricsmania': 0}\n"
     ]
    }
   ],
   "source": [
    "counts = {'lyricsmania': 0, 'lyricswikia': 0, 'minilyrics': 0, 'musixmatch': 0, 'songlyrics': 0, 'todotango': 0, 'letras.com': 0}\n",
    "for w in works:\n",
    "    \n",
    "    lyricsmania = json.load(open(\"./data/lyrics/%d/%s.json\" % (w['id'], \"lyricsmania\")))\n",
    "    lyricswikia = json.load(open(\"./data/lyrics/%d/%s.json\" % (w['id'], \"lyricswikia\")))\n",
    "    minilyrics = json.load(open(\"./data/lyrics/%d/%s.json\" % (w['id'], \"minilyrics\")))\n",
    "    musixmatch = json.load(open(\"./data/lyrics/%d/%s.json\" % (w['id'], \"musixmatch\")))\n",
    "    songlyrics = json.load(open(\"./data/lyrics/%d/%s.json\" % (w['id'], \"songlyrics\")))\n",
    "    \n",
    "    if len(w['lyric']):\n",
    "        counts['todotango']+=1\n",
    "    \n",
    "        if len(lyricsmania):\n",
    "            counts['lyricsmania']+=1\n",
    "        elif len(lyricswikia):\n",
    "            counts['lyricswikia']+=1\n",
    "        elif len(minilyrics):\n",
    "            counts['minilyrics']+=1\n",
    "        elif len(musixmatch):\n",
    "            counts['musixmatch']+=1\n",
    "        elif len(songlyrics):\n",
    "            counts['songlyrics']+=1\n",
    "print counts"
   ]
  },
  {
   "cell_type": "code",
   "execution_count": 73,
   "metadata": {
    "collapsed": false
   },
   "outputs": [],
   "source": [
    "import numpy as np\n",
    "from sklearn.feature_extraction.text import CountVectorizer\n",
    "transf = CountVectorizer(encoding=u'unicode', strip_accents=u'unicode')\n",
    "\n",
    "\n",
    "oraciones = []\n",
    "for i in minilyrics:\n",
    "    for j in i:\n",
    "        #print w['external_id']\n",
    "        #print j['lyric']\n",
    "        oraciones.append(j['lyric'])\n",
    "\n",
    "vectores = transf.fit_transform(oraciones)\n",
    "\n",
    "v = (vectores * vectores.T).A\n",
    "v[np.diag_indices_from(v)] -= 1\n",
    "\n",
    "#plt.matshow(v)"
   ]
  },
  {
   "cell_type": "code",
   "execution_count": 74,
   "metadata": {
    "collapsed": false
   },
   "outputs": [
    {
     "data": {
      "text/plain": [
       "array([0])"
      ]
     },
     "execution_count": 74,
     "metadata": {},
     "output_type": "execute_result"
    }
   ],
   "source": [
    "np.argmax(v, axis=0)"
   ]
  },
  {
   "cell_type": "code",
   "execution_count": 108,
   "metadata": {
    "collapsed": false
   },
   "outputs": [],
   "source": [
    "\n",
    "one_doc = texto\n",
    "one_doc_code = transf.transform([one_doc])\n",
    "v = (vectores * one_doc_code.T).A"
   ]
  },
  {
   "cell_type": "code",
   "execution_count": 109,
   "metadata": {
    "collapsed": false
   },
   "outputs": [
    {
     "data": {
      "text/plain": [
       "array([[ 99],\n",
       "       [500],\n",
       "       [ 99],\n",
       "       [503],\n",
       "       [593],\n",
       "       [ 96],\n",
       "       [399],\n",
       "       [303],\n",
       "       [840],\n",
       "       [ 99],\n",
       "       [ 80],\n",
       "       [  4],\n",
       "       [840],\n",
       "       [ 87],\n",
       "       [535],\n",
       "       [  1],\n",
       "       [399],\n",
       "       [840],\n",
       "       [537],\n",
       "       [273],\n",
       "       [ 41],\n",
       "       [817],\n",
       "       [320],\n",
       "       [842],\n",
       "       [251],\n",
       "       [ 95]])"
      ]
     },
     "execution_count": 109,
     "metadata": {},
     "output_type": "execute_result"
    }
   ],
   "source": [
    "v\n",
    "8,12,17,21,23"
   ]
  },
  {
   "cell_type": "code",
   "execution_count": 110,
   "metadata": {
    "collapsed": false
   },
   "outputs": [
    {
     "name": "stdout",
     "output_type": "stream",
     "text": [
      "Rechiflado en mi tristeza,\n",
      "hoy te evoco y veo que has sido\n",
      "en mi pobre vida paria sólo una buena mujer.\n",
      "Tu presencia de bacana puso calor en mi nido,\n",
      "fuiste buena, consecuente, y yo sé que me has querido\n",
      "como no quisiste a nadie, como no podrás querer.\n",
      "\n",
      "Se dio el juego de remanye cuando vos, pobre percanta,\n",
      "gambeteabas la pobreza en la casa de pensión.\n",
      "Hoy sos toda una bacana, la vida te ríe y canta,\n",
      "Ios morlacos del otario los jugás a la marchanta\n",
      "como juega el gato maula con el mísero ratón.\n",
      "\n",
      "Hoy tenés el mate lleno de infelices ilusiones,\n",
      "te engrupieron los otarios, las amigas y el gavión;\n",
      "la milonga, entre magnates, con sus locas tentaciones,\n",
      "donde triunfan y claudican milongueras pretensiones,\n",
      "se te ha entrado muy adentro en tu pobre corazón.\n",
      "\n",
      "Nada debo agradecerte, mano a mano hemos quedado;\n",
      "no me importa lo que has hecho, lo que hacés ni lo que harás...\n",
      "Los favores recibidos creo habértelos pagado\n",
      "y, si alguna deuda chica sin querer se me ha olvidado,\n",
      "en la cuenta del otario que tenés se la cargás.\n",
      "\n",
      "Mientras tanto, que tus triunfos, pobres triunfos pasajeros,\n",
      "sean una larga fila de riquezas y placer;\n",
      "que el bacán que te acamala tenga pesos duraderos,\n",
      "que te abrás de las paradas con cafishos milongueros\n",
      "y que digan los muchachos: Es una buena mujer.\n",
      "Y mañana, cuando seas descolado mueble viejo\n",
      "y no tengas esperanzas en tu pobre corazón,\n",
      "si precisás una ayuda, si te hace falta un consejo,\n",
      "acordate de este amigo que ha de jugarse el pellejo\n",
      "pa'ayudarte en lo que pueda cuando llegue la ocasión.\n",
      "\n",
      "\n",
      "Rechiflado en mi tristeza, te evoco y veo que has sido\n",
      "en mi pobre vida paria sólo una buena mujer.\n",
      "Tu presencia de bacana puso calor en mi nido,\n",
      "fuiste buena, consecuente, y yo sé que me has querido\n",
      "como no quisiste a nadie, como no podrás querer.\n",
      "\n",
      "Se dio el juego de remanye cuando vos, pobre percanta,\n",
      "gambeteabas la pobreza en la casa de pensión.\n",
      "Hoy sos toda una bacana, la vida te ríe y canta,\n",
      "Ios morlacos del otario los jugás a la marchanta\n",
      "como juega el gato maula con el mísero ratón.\n",
      "\n",
      "Hoy tenés el mate lleno de infelices ilusiones,\n",
      "te engrupieron los otarios, las amigas y el gavión;\n",
      "la milonga, entre magnates, con sus locas tentaciones,\n",
      "donde triunfan y claudican milongueras pretensiones,\n",
      "se te ha entrado muy adentro en tu pobre corazón.\n",
      "\n",
      "Nada debo agradecerte, mano a mano hemos quedado;\n",
      "no me importa lo que has hecho, lo que hacés ni lo que harás...\n",
      "Los favores recibidos creo habértelos pagado\n",
      "y, si alguna deuda chica sin querer se me ha olvidado,\n",
      "en la cuenta del otario que tenés se la cargás.\n",
      "\n",
      "Mientras tanto, que tus triunfos, pobres triunfos pasajeros,\n",
      "sean una larga fila de riquezas y placer;\n",
      "que el bacán que te acamala tenga pesos duraderos,\n",
      "que te abrás de las paradas con cafishos milongueros\n",
      "y que digan los muchachos: Es una buena mujer.\n",
      "Y mañana, cuando seas descolado mueble viejo\n",
      "y no tengas esperanzas en tu pobre corazón,\n",
      "si precisás una ayuda, si te hace falta un consejo,\n",
      "acordate de este amigo que ha de jugarse el pellejo\n",
      "pa'ayudarte en lo que pueda cuando llegue la ocasión.\n",
      "\n",
      "\n"
     ]
    }
   ],
   "source": [
    "print oraciones[23]\n",
    "print texto"
   ]
  },
  {
   "cell_type": "code",
   "execution_count": 32,
   "metadata": {
    "collapsed": false
   },
   "outputs": [
    {
     "data": {
      "text/plain": [
       "{u'alias': [u'Romanelli, Orlando'],\n",
       " u'begin_date': [u'22', 6, u'1903'],\n",
       " u'begin_place': u'Montevideo Uruguay',\n",
       " u'end_date': [u'28', 7, u'1989'],\n",
       " u'external_id': {u'todotango': u'http://www.todotango.com/creadores/ficha/347/Orlando-Romanelli'},\n",
       " u'gender': u'',\n",
       " u'id': 3581,\n",
       " u'name': u'Orlando Romanelli',\n",
       " u'short_description': u'Pianista, director y compositor',\n",
       " u'type': u'Person'}"
      ]
     },
     "execution_count": 32,
     "metadata": {},
     "output_type": "execute_result"
    }
   ],
   "source": [
    "artists[3581]"
   ]
  },
  {
   "cell_type": "code",
   "execution_count": null,
   "metadata": {
    "collapsed": true
   },
   "outputs": [],
   "source": []
  }
 ],
 "metadata": {
  "kernelspec": {
   "display_name": "Python 2",
   "language": "python",
   "name": "python2"
  },
  "language_info": {
   "codemirror_mode": {
    "name": "ipython",
    "version": 2
   },
   "file_extension": ".py",
   "mimetype": "text/x-python",
   "name": "python",
   "nbconvert_exporter": "python",
   "pygments_lexer": "ipython2",
   "version": "2.7.10"
  }
 },
 "nbformat": 4,
 "nbformat_minor": 1
}
