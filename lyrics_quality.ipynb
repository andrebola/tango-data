{
 "cells": [
  {
   "cell_type": "markdown",
   "metadata": {},
   "source": [
    "Data Quality assessment task\n",
    "-------------------\n",
    "\n",
    "At this point we count with all the lyrics from the different sources saved on disk, so the first step is to load them togheder with the metadata"
   ]
  },
  {
   "cell_type": "markdown",
   "metadata": {},
   "source": [
    "**Load lyrics from different sources**\n"
   ]
  },
  {
   "cell_type": "code",
   "execution_count": 141,
   "metadata": {
    "collapsed": false
   },
   "outputs": [],
   "source": [
    "import json, os\n",
    "import re\n",
    "\n",
    "# Songs are called works, load the metadata of songs:\n",
    "works = json.load(open('./data/clean/works.json'))\n",
    "\n",
    "# load all the lyrics from the different sources\n",
    "lyrics = {}\n",
    "for w in works:\n",
    "    mypath = \"./data/lyrics/%d\" % (w['id'])\n",
    "    if os.path.exists(mypath):\n",
    "        sources =[f for f in os.listdir(mypath) if os.path.isfile(os.path.join(mypath, f))]\n",
    "        lyrics_sources = {}\n",
    "        for source in sources:\n",
    "            lyrics_sources[source.replace('.json', '')] = json.load(open(os.path.join(mypath, source)))\n",
    "        lyrics[w['id']] = lyrics_sources"
   ]
  },
  {
   "cell_type": "code",
   "execution_count": 152,
   "metadata": {
    "collapsed": true
   },
   "outputs": [],
   "source": [
    "# load metadata of artists and recordings\n",
    "artists = json.load(open('./data/clean/artists.json'))\n",
    "artists[1794]['name'] = 'Carlos Gardel'\n",
    "recordings = json.load(open('./data/clean/recordings.json'))\n",
    "\n",
    "# Load 12k source\n",
    "sourcek = json.load(open('./data/lyric.json'))"
   ]
  },
  {
   "cell_type": "markdown",
   "metadata": {},
   "source": [
    "** Define auxiliary methods for calculating jaccard index and comparing name of songs **"
   ]
  },
  {
   "cell_type": "code",
   "execution_count": 143,
   "metadata": {
    "collapsed": true
   },
   "outputs": [],
   "source": [
    "from math import*\n",
    "  \n",
    "def jaccard_similarity(x,y):\n",
    "  \n",
    " intersection_cardinality = len(set.intersection(*[set(x), set(y)]))\n",
    " union_cardinality = len(set.union(*[set(x), set(y)]))\n",
    " if float(union_cardinality) == 0:\n",
    "    return 0\n",
    " return intersection_cardinality/float(union_cardinality)\n",
    "\n",
    "def compare_names(a, b):\n",
    "    if a in b or b in a:\n",
    "        return True\n",
    "    sim,_,_ = calculate_distances(a, b)\n",
    "    return sim >= 0.9"
   ]
  },
  {
   "cell_type": "markdown",
   "metadata": {},
   "source": [
    "** Define method to compare two lyrics, here we replace upper case for lower case and remove special characters before comparing**"
   ]
  },
  {
   "cell_type": "code",
   "execution_count": 144,
   "metadata": {
    "collapsed": false
   },
   "outputs": [],
   "source": [
    "import Levenshtein, difflib\n",
    "replace_elems = [u'!',u'¡',u'?',u'¿',u'.',u',',u'*',u'\\'',u'\"',u'`',u'(',u')', u':', u';', u'“']\n",
    "replace_tilde = {u'á': 'a', u'é': 'e', u'í': 'i', u'ó': 'o', u'ú': 'u',}\n",
    "def calculate_distances(lyric1, lyric2):\n",
    "    for e in replace_elems:\n",
    "        lyric1 = lyric1.replace(e, '')\n",
    "        lyric2 = lyric2.replace(e, '')\n",
    "    for e in replace_tilde.keys():\n",
    "        lyric1 = lyric1.replace(e, replace_tilde[e])\n",
    "        lyric2 = lyric2.replace(e, replace_tilde[e])\n",
    "    lyric1 = lyric1.lower().split()\n",
    "    lyric2 = lyric2.lower().split()\n",
    "    \n",
    "    jac = jaccard_similarity(lyric1, lyric2) \n",
    "    inter1 =  len(lyric1)\n",
    "    inter2 = len(lyric2)\n",
    "    return jac, inter1, inter2"
   ]
  },
  {
   "cell_type": "markdown",
   "metadata": {},
   "source": [
    "** For each source choose right lyric and normalize **"
   ]
  },
  {
   "cell_type": "markdown",
   "metadata": {},
   "source": [
    "For the source 12K we will try to the title with the metadata of songs, then we normalize it by removing the text which is not part of the lyric"
   ]
  },
  {
   "cell_type": "code",
   "execution_count": 145,
   "metadata": {
    "collapsed": false
   },
   "outputs": [],
   "source": [
    "for work in works:\n",
    "    for l in sourcek:\n",
    "        #For each candidate in 12K compare the title \n",
    "        sim = compare_names(work['title'], l['title'][0].replace('\\n', '').strip())\n",
    "        #sim,_,_ = calculate_distances(work['title'], l['title'][0].replace('\\n', '').strip())\n",
    "        if sim :\n",
    "            save = False\n",
    "            saved = ''\n",
    "            # Now that the title matched remove the part of the text that is not lyrics\n",
    "            if work['lyric']:\n",
    "                for s2 in l['body'][0].split('\\n'):\n",
    "                    if save:\n",
    "                        saved += s2 + '\\n'\n",
    "                    else:\n",
    "                        for s in work['lyric']:\n",
    "                            for line in s:\n",
    "                                sim,_,_ = calculate_distances(line, s2)\n",
    "                                if sim >=0.90:\n",
    "                                    save = True\n",
    "                                    saved = s2 + '\\n'\n",
    "                                \n",
    "            if save:\n",
    "                l = saved\n",
    "            else:\n",
    "                l = l['body'][0]\n",
    "            lyrics[work['id']]['12k'] = l\n",
    "            break\n",
    "    if work['lyric'] and len(work['lyric']):\n",
    "        lyrics[work['id']]['todotango'] = work['lyric']"
   ]
  },
  {
   "cell_type": "markdown",
   "metadata": {},
   "source": [
    "Select a candidate for the rest of the sources and store all the lyrics on 'lyrics_clean'"
   ]
  },
  {
   "cell_type": "code",
   "execution_count": 146,
   "metadata": {
    "collapsed": false,
    "scrolled": false
   },
   "outputs": [],
   "source": [
    "lyrics_clean = {}\n",
    "\n",
    "for work in works:\n",
    "    w = work['id']\n",
    "    lyrics_clean[w] = {}\n",
    "    found = False\n",
    "    if '12k' in lyrics[w]:\n",
    "        lyrics_clean[w]['12k'] = lyrics[w]['12k']\n",
    "    if lyrics[w]['minilyrics']:\n",
    "        best_lyric = None\n",
    "        best_score = -1\n",
    "        if lyrics[w]['minilyrics'] and 'todotango' in lyrics[w] and lyrics[w]['todotango']:\n",
    "            lyric = None\n",
    "            for l in lyrics[w]['minilyrics']:\n",
    "                for i in l:\n",
    "                    if i['lyric']:\n",
    "                        lyric = i['lyric']\n",
    "                        # When the lyrics contains brachets with the time we remove it\n",
    "                        if re.search('\\[(.*)\\]', lyric):\n",
    "                            lyric = re.sub('\\[(.*)\\]', '', lyric)\n",
    "                            lyric = lyric.encode('utf-8').decode('utf-8')\n",
    "                        else:    \n",
    "                            # Try to identify the the right encoding and load it as unicode\n",
    "                            try:\n",
    "                                lyric = lyric.encode('latin-1').decode('utf-8')\n",
    "                            except UnicodeDecodeError:\n",
    "                                lyric = lyric.encode('utf8').decode('utf8')\n",
    "                            pass\n",
    "\n",
    "                        # calculate the similarity with Todotango, from the different results we keep the best one \n",
    "                        l2 = '\\n'.join([item for sublist in lyrics[w]['todotango'] for item in sublist])\n",
    "                        sim,_,_ = calculate_distances(lyric, l2)\n",
    "\n",
    "                        if best_score<sim:\n",
    "                            best_score = sim\n",
    "                            best_lyric = lyric\n",
    "\n",
    "        if best_lyric and best_score >= 0.7:\n",
    "            lyrics_clean[w]['minilyrics'] = best_lyric\n",
    "        else:\n",
    "            #If we didn't found a good candidate we try to match the artist name\n",
    "            lyric = None\n",
    "            for l in lyrics[w]['minilyrics']:\n",
    "                for i in l:\n",
    "                    if i['artist']:\n",
    "                        for c in work['composers']:\n",
    "                            a = artists[c]\n",
    "                            sim = compare_names(a['name'], i['artist'])\n",
    "                            if sim:\n",
    "                                lyric = i['lyric']\n",
    "                        for r in recordings:\n",
    "                            if r['work'] == w:\n",
    "                                for a in r['artist']: \n",
    "\n",
    "                                    #if artists[a['id']]['name'].upper() == i['artist'].upper():\n",
    "                                    sim = compare_names(artists[a['id']]['name'], i['artist'])\n",
    "                                    if sim:\n",
    "                                        lyric = i['lyric']\n",
    "            if lyric:\n",
    "                if re.search('\\[(.*)\\]', lyric):\n",
    "                    lyric = re.sub('\\[(.*)\\]', '', lyric)\n",
    "                    lyric = lyric.encode('utf-8').decode('utf-8')\n",
    "                else:    \n",
    "                    try:\n",
    "                        lyric = lyric.encode('latin-1').decode('utf-8')\n",
    "                    except UnicodeDecodeError:\n",
    "                        lyric = lyric.encode('utf8').decode('utf8')\n",
    "                    pass\n",
    "                lyrics_clean[w]['minilyrics'] = lyric\n",
    "    if 'chartlyrics' in lyrics[w] and lyrics[w]['chartlyrics']:\n",
    "        lyric = None\n",
    "        # For all the possible lyrics on Chartlyrics we try to match the artists name with the metadata\n",
    "        for l in lyrics[w]['chartlyrics']:\n",
    "            for i in l:\n",
    "                for c in work['composers']:\n",
    "                    a = artists[c]\n",
    "                    sim = compare_names(a['name'], i['artist'])\n",
    "                    #if a['name'].upper() == i['artist'].upper():\n",
    "                    if sim :\n",
    "                        lyric = i['lyric']\n",
    "                for r in recordings:\n",
    "                    if r['work'] == w:\n",
    "                        for a in r['artist']: \n",
    "                            sim = compare_names(artists[a['id']]['name'], i['artist'])\n",
    "                            if sim :\n",
    "                                #if artists[a['id']]['name'].upper() == i['artist'].upper():\n",
    "                                lyric = i['lyric']\n",
    "        if lyric:\n",
    "            \n",
    "            lyrics_clean[w]['chartlyrics'] = lyric\n",
    "    if lyrics[w]['lyricswikia']:\n",
    "        lyrics_clean[w]['lyricswikia'] = lyrics[w]['lyricswikia'][0]['lyrics']\n",
    "    if 'todotango' in lyrics[w] and lyrics[w]['todotango']:\n",
    "        lyrics_clean[w]['todotango'] = '\\n'.join([item for sublist in lyrics[w]['todotango'] for item in sublist])\n",
    "    "
   ]
  },
  {
   "cell_type": "markdown",
   "metadata": {},
   "source": [
    "**Profiling**"
   ]
  },
  {
   "cell_type": "markdown",
   "metadata": {},
   "source": [
    "Now that we have a single candidate from each source for each song we start the profiling"
   ]
  },
  {
   "cell_type": "code",
   "execution_count": 159,
   "metadata": {
    "collapsed": false
   },
   "outputs": [
    {
     "name": "stdout",
     "output_type": "stream",
     "text": [
      "Inital sources:\n",
      "{'songlyrics': 0, 'chartlyrics': 2740, 'lyricswikia': 577, 'musixmatch': 62, 'minilyrics': 2914, 'todotango': 5647, '12k': 2926, 'lyricsmania': 0}\n",
      "{1: 3231, 2: 2517, 3: 1476, 4: 468, 5: 59, 6: 1, 7: 0}\n",
      "7752\n",
      "\n",
      "Cleaned sources:\n",
      "{'12k': 2926, 'minilyrics': 1005, 'todotango': 5647, 'chartlyrics': 60, 'lyricswikia': 577}\n",
      "{1: 3545, 2: 1830, 3: 782, 4: 161, 5: 4}\n",
      "6322\n"
     ]
    }
   ],
   "source": [
    "initial_sources = {\n",
    "    'songlyrics': 0,\n",
    "    'musixmatch': 0,\n",
    "    'lyricsmania': 0,\n",
    "    'chartlyrics': 0,\n",
    "    'lyricswikia': 0,\n",
    "    'minilyrics': 0,\n",
    "    'todotango': 0,\n",
    "    '12k': 0\n",
    "}\n",
    "sources = {\n",
    "    'chartlyrics': 0,\n",
    "    'lyricswikia': 0,\n",
    "    'minilyrics': 0,\n",
    "    'todotango': 0,\n",
    "    '12k': 0\n",
    "}\n",
    "initial_count = {\n",
    "    1: 0,\n",
    "    2: 0,\n",
    "    3: 0,\n",
    "    4: 0,\n",
    "    5: 0,\n",
    "    6: 0,\n",
    "    7: 0,\n",
    "}\n",
    "count = {\n",
    "    1: 0,\n",
    "    2: 0,\n",
    "    3: 0,\n",
    "    4: 0,\n",
    "    5: 0\n",
    "}\n",
    "initial_total = 0\n",
    "count_total = 0\n",
    "for work in works:\n",
    "    w = work['id']\n",
    "    initial_found = 0\n",
    "    found = 0\n",
    "    for s in sources.keys():\n",
    "        if s in lyrics_clean[w] and lyrics_clean[w][s]:\n",
    "            sources[s] += 1\n",
    "            found += 1\n",
    "    for s in initial_sources.keys():\n",
    "        if s in lyrics[w] and lyrics[w][s]:\n",
    "            initial_sources[s] += 1\n",
    "            initial_found +=1\n",
    "    if found > 0:\n",
    "        count[found] += 1\n",
    "        count_total += 1\n",
    "    if initial_found > 0:\n",
    "        initial_count[initial_found] += 1\n",
    "        initial_total +=1\n",
    "        \n",
    "print 'Inital sources:'\n",
    "print initial_sources\n",
    "print initial_count\n",
    "print initial_total\n",
    "print \"\"\n",
    "print 'Cleaned sources:'\n",
    "print sources\n",
    "print count\n",
    "print count_total"
   ]
  },
  {
   "cell_type": "markdown",
   "metadata": {},
   "source": [
    "** Calculate distance between all the candidate lyrics of a given song **"
   ]
  },
  {
   "cell_type": "code",
   "execution_count": 148,
   "metadata": {
    "collapsed": false
   },
   "outputs": [],
   "source": [
    "distances = {}\n",
    "lengths = {}\n",
    "lengths_counts = {}\n",
    "lengths_max = {}\n",
    "lengths_min = {}\n",
    "for work in works:\n",
    "    w = work['id']\n",
    "    distances[w] = {}\n",
    "\n",
    "    for s in sources.keys():\n",
    "        if s not in distances[w]:\n",
    "            distances[w][s] = {}\n",
    "        if s not in lengths:\n",
    "            lengths[s] = 0\n",
    "            lengths_counts[s] = 0\n",
    "            lengths_max[s] = 0\n",
    "            lengths_min[s] = 999999\n",
    "        for s2 in sources.keys():\n",
    "            if s != None and s2 != None and s != s2:\n",
    "                if s in lyrics_clean[w] and lyrics_clean[w][s] and s2 in lyrics_clean[w] and lyrics_clean[w][s2]:\n",
    "                    if s in distances[w] and s2 in distances[w][s]:\n",
    "                        distances[w][s2][s] = {\n",
    "                            'jac': distances[w][s][s2]['jac'],\n",
    "                            'inter1': distances[w][s][s2]['diff2'],\n",
    "                            'inter2': distances[w][s][s2]['diffl'], \n",
    "                        }\n",
    "                    else:\n",
    "                        jac, inter1, inter2 = calculate_distances(lyrics_clean[w][s],lyrics_clean[w][s2])\n",
    "                        distances[w][s][s2] = {'jac': jac, 'inter1': inter1, 'inter2': inter2}\n",
    "                        lengths[s] += inter1\n",
    "                        lengths_counts[s] += 1\n",
    "                        if inter1> lengths_max[s]:\n",
    "                            lengths_max[s] = inter1\n",
    "                        elif inter1<lengths_min[s]:\n",
    "                            lengths_min[s] = inter1"
   ]
  },
  {
   "cell_type": "markdown",
   "metadata": {},
   "source": [
    "** Calculate mean distance between all the sources **"
   ]
  },
  {
   "cell_type": "code",
   "execution_count": 149,
   "metadata": {
    "collapsed": false
   },
   "outputs": [
    {
     "name": "stdout",
     "output_type": "stream",
     "text": [
      "12k - todotango, Jaccard index: \u001b[1;31m0.775914\u001b[0m\n",
      "12k - todotango, Average length for the first source: 173.000000\n",
      "12k - todotango, Average length for the second source: 160.000000\n",
      "12k - minilyrics, Jaccard index: \u001b[1;31m0.732773\u001b[0m\n",
      "12k - minilyrics, Average length for the first source: 189.000000\n",
      "12k - minilyrics, Average length for the second source: 179.000000\n",
      "12k - lyricswikia, Jaccard index: \u001b[1;31m0.829158\u001b[0m\n",
      "12k - lyricswikia, Average length for the first source: 181.000000\n",
      "12k - lyricswikia, Average length for the second source: 168.000000\n",
      "12k - chartlyrics, Jaccard index: \u001b[1;31m0.249605\u001b[0m\n",
      "12k - chartlyrics, Average length for the first source: 263.000000\n",
      "12k - chartlyrics, Average length for the second source: 247.000000\n",
      "Average length in words for 12k : 178.000000\n",
      "Min length in words for 12k : 12.000000\n",
      "Max length in words for 12k : 2040.000000\n",
      "todotango - 12k, Jaccard index: \u001b[1;31m0.775914\u001b[0m\n",
      "todotango - 12k, Average length for the first source: 160.000000\n",
      "todotango - 12k, Average length for the second source: 173.000000\n",
      "todotango - minilyrics, Jaccard index: \u001b[1;31m0.859525\u001b[0m\n",
      "todotango - minilyrics, Average length for the first source: 162.000000\n",
      "todotango - minilyrics, Average length for the second source: 178.000000\n",
      "todotango - lyricswikia, Jaccard index: \u001b[1;31m0.990372\u001b[0m\n",
      "todotango - lyricswikia, Average length for the first source: 163.000000\n",
      "todotango - lyricswikia, Average length for the second source: 164.000000\n",
      "todotango - chartlyrics, Jaccard index: \u001b[1;31m0.236051\u001b[0m\n",
      "todotango - chartlyrics, Average length for the first source: 206.000000\n",
      "todotango - chartlyrics, Average length for the second source: 269.000000\n",
      "Average length in words for todotango : 161.000000\n",
      "Min length in words for todotango : 29.000000\n",
      "Max length in words for todotango : 452.000000\n",
      "minilyrics - todotango, Jaccard index: \u001b[1;31m0.859525\u001b[0m\n",
      "minilyrics - todotango, Average length for the first source: 178.000000\n",
      "minilyrics - todotango, Average length for the second source: 162.000000\n",
      "minilyrics - 12k, Jaccard index: \u001b[1;31m0.732773\u001b[0m\n",
      "minilyrics - 12k, Average length for the first source: 179.000000\n",
      "minilyrics - 12k, Average length for the second source: 189.000000\n",
      "minilyrics - lyricswikia, Jaccard index: \u001b[1;31m0.871103\u001b[0m\n",
      "minilyrics - lyricswikia, Average length for the first source: 185.000000\n",
      "minilyrics - lyricswikia, Average length for the second source: 168.000000\n",
      "minilyrics - chartlyrics, Jaccard index: \u001b[1;31m0.364506\u001b[0m\n",
      "minilyrics - chartlyrics, Average length for the first source: 213.000000\n",
      "minilyrics - chartlyrics, Average length for the second source: 256.000000\n",
      "Average length in words for minilyrics : 180.000000\n",
      "Min length in words for minilyrics : 8.000000\n",
      "Max length in words for minilyrics : 396.000000\n",
      "lyricswikia - minilyrics, Jaccard index: \u001b[1;31m0.871103\u001b[0m\n",
      "lyricswikia - minilyrics, Average length for the first source: 168.000000\n",
      "lyricswikia - minilyrics, Average length for the second source: 185.000000\n",
      "lyricswikia - todotango, Jaccard index: \u001b[1;31m0.990372\u001b[0m\n",
      "lyricswikia - todotango, Average length for the first source: 164.000000\n",
      "lyricswikia - todotango, Average length for the second source: 163.000000\n",
      "lyricswikia - 12k, Jaccard index: \u001b[1;31m0.829158\u001b[0m\n",
      "lyricswikia - 12k, Average length for the first source: 168.000000\n",
      "lyricswikia - 12k, Average length for the second source: 181.000000\n",
      "lyricswikia - chartlyrics, Jaccard index: \u001b[1;31m0.631715\u001b[0m\n",
      "lyricswikia - chartlyrics, Average length for the first source: 246.000000\n",
      "lyricswikia - chartlyrics, Average length for the second source: 245.000000\n",
      "Average length in words for lyricswikia : 166.000000\n",
      "Min length in words for lyricswikia : 1.000000\n",
      "Max length in words for lyricswikia : 402.000000\n",
      "chartlyrics - 12k, Jaccard index: \u001b[1;31m0.249605\u001b[0m\n",
      "chartlyrics - 12k, Average length for the first source: 247.000000\n",
      "chartlyrics - 12k, Average length for the second source: 263.000000\n",
      "chartlyrics - todotango, Jaccard index: \u001b[1;31m0.236051\u001b[0m\n",
      "chartlyrics - todotango, Average length for the first source: 269.000000\n",
      "chartlyrics - todotango, Average length for the second source: 206.000000\n",
      "chartlyrics - minilyrics, Jaccard index: \u001b[1;31m0.364506\u001b[0m\n",
      "chartlyrics - minilyrics, Average length for the first source: 256.000000\n",
      "chartlyrics - minilyrics, Average length for the second source: 213.000000\n",
      "chartlyrics - lyricswikia, Jaccard index: \u001b[1;31m0.631715\u001b[0m\n",
      "chartlyrics - lyricswikia, Average length for the first source: 245.000000\n",
      "chartlyrics - lyricswikia, Average length for the second source: 246.000000\n",
      "Average length in words for chartlyrics : 258.000000\n",
      "Min length in words for chartlyrics : 1.000000\n",
      "Max length in words for chartlyrics : 462.000000\n"
     ]
    }
   ],
   "source": [
    "values = ['jac','inter1','inter2']\n",
    "vals = {}\n",
    "counts = {}\n",
    "for w in distances.keys():\n",
    "    for s in distances[w].keys():\n",
    "        for s2 in distances[w][s]:\n",
    "            for elem in distances[w][s][s2].keys():\n",
    "                if s not in vals:\n",
    "                    vals[s] = {}\n",
    "                    counts[s] = {}\n",
    "                if s2 not in vals[s]:\n",
    "                    vals[s][s2] = {}\n",
    "                    counts[s][s2] = {}\n",
    "                if elem not in vals[s][s2]:\n",
    "                    vals[s][s2][elem] = 0\n",
    "                    counts[s][s2][elem] = 0\n",
    "                vals[s][s2][elem] += distances[w][s][s2][elem]\n",
    "                counts[s][s2][elem] += 1\n",
    "\n",
    "for s in vals.keys():\n",
    "    for s2 in vals[s]:\n",
    "        print '%s - %s, Jaccard index: \\x1b[1;31m%f\\x1b[0m' % (s,s2,vals[s][s2]['jac'] / counts[s][s2]['jac'])\n",
    "        print '%s - %s, Average length for the first source: %f' % (s,s2,vals[s][s2]['inter1'] / counts[s][s2]['inter1'])\n",
    "        print '%s - %s, Average length for the second source: %f' % (s,s2,vals[s][s2]['inter2'] / counts[s][s2]['inter2'])\n",
    "        \n",
    "    print \"Average length in words for %s : %f\" % (s, lengths[s]/lengths_counts[s])\n",
    "    print \"Min length in words for %s : %f\" % (s, lengths_min[s])\n",
    "    print \"Max length in words for %s : %f\" % (s, lengths_max[s])"
   ]
  },
  {
   "cell_type": "markdown",
   "metadata": {},
   "source": [
    "**Finally, choose one candidate for each song and save the results**"
   ]
  },
  {
   "cell_type": "code",
   "execution_count": 150,
   "metadata": {
    "collapsed": false
   },
   "outputs": [],
   "source": [
    "for work in works:\n",
    "    w= work['id']\n",
    "    if not w in lyrics_clean:\n",
    "        work['lyric'] = None\n",
    "    elif 'minilyrics' in lyrics_clean[w]:\n",
    "        work['lyric'] = lyrics_clean[w]['minilyrics'].replace('\\r\\n', '\\n')\n",
    "    elif 'todotango' in lyrics_clean[w]:\n",
    "        work['lyric'] = lyrics_clean[w]['todotango']\n",
    "    elif '12k' in lyrics_clean[w]:\n",
    "        work['lyric'] = lyrics_clean[w]['12k']\n",
    " \n",
    "import csv\n",
    "with open('tango_lyrics.csv', 'wb') as csvfile:\n",
    "    writer = csv.writer(csvfile, delimiter=',',\n",
    "                            quotechar='\"', quoting=csv.QUOTE_MINIMAL)\n",
    "    for work in works:\n",
    "        if 'lyric' in work and work['lyric']:\n",
    "            writer.writerow([work['title'].encode('utf-8'), work['lyric'].encode('utf-8')])\n",
    "    "
   ]
  },
  {
   "cell_type": "code",
   "execution_count": null,
   "metadata": {
    "collapsed": true
   },
   "outputs": [],
   "source": []
  }
 ],
 "metadata": {
  "kernelspec": {
   "display_name": "Python 2",
   "language": "python",
   "name": "python2"
  },
  "language_info": {
   "codemirror_mode": {
    "name": "ipython",
    "version": 2
   },
   "file_extension": ".py",
   "mimetype": "text/x-python",
   "name": "python",
   "nbconvert_exporter": "python",
   "pygments_lexer": "ipython2",
   "version": "2.7.10"
  }
 },
 "nbformat": 4,
 "nbformat_minor": 1
}
