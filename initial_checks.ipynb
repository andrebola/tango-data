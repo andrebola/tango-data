{
 "cells": [
  {
   "cell_type": "code",
   "execution_count": 1,
   "metadata": {
    "collapsed": true
   },
   "outputs": [],
   "source": [
    "import json\n",
    "import pprint\n",
    "pp = pprint.PrettyPrinter(indent=4)"
   ]
  },
  {
   "cell_type": "code",
   "execution_count": 2,
   "metadata": {
    "collapsed": false
   },
   "outputs": [],
   "source": [
    "artists = json.load(open(\"data/artists.json\"))\n",
    "works = json.load(open(\"data/works.json\"))\n",
    "articles = json.load(open(\"data/articles.json\"))\n",
    "bios = json.load(open(\"data/bios.json\"))\n",
    "vocab = json.load(open(\"data/vocab.json\"))\n",
    "works_comments = json.load(open(\"data/comments.json\"))\n",
    "articles_comments = json.load(open(\"data/articles_comments.json\"))\n",
    "english_articles = json.load(open(\"data/en_articles.json\"))\n",
    "english_articles_comments = json.load(open(\"data/en_articles_comments.json\"))\n",
    "english_bios = json.load(open(\"data/en_biographies.json\"))"
   ]
  },
  {
   "cell_type": "code",
   "execution_count": 117,
   "metadata": {
    "collapsed": false
   },
   "outputs": [
    {
     "data": {
      "text/plain": [
       "[(u'  ', 2061),\n",
       " (u' Buenos Aires Argentina', 1014),\n",
       " (u' Montevideo Uruguay', 125),\n",
       " (u'  Argentina', 111),\n",
       " (u' Rosario (Santa Fe) Argentina', 74),\n",
       " (u' La Plata (Buenos Aires) Argentina', 39),\n",
       " (u'  Uruguay', 33),\n",
       " (u' Avellaneda (Buenos Aires) Argentina', 31),\n",
       " (u'  Italia', 27),\n",
       " (u' C\\xf3rdoba Argentina', 21)]"
      ]
     },
     "execution_count": 117,
     "metadata": {},
     "output_type": "execute_result"
    }
   ],
   "source": [
    "from collections import Counter\n",
    "places = [i['place_b'][0] for i in artists if len(i['place_b'])>0]\n",
    "Counter(places).most_common(10)"
   ]
  },
  {
   "cell_type": "code",
   "execution_count": 118,
   "metadata": {
    "collapsed": false
   },
   "outputs": [
    {
     "name": "stdout",
     "output_type": "stream",
     "text": [
      "{   u'audio': [],\n",
      "    u'composers': [   u'http://www.todotango.com/creadores/ficha/112/Domingo-Federico'],\n",
      "    u'img': u'http://images.todotango.com/partituras/pixel.gif',\n",
      "    u'liricists': [   u'http://www.todotango.com/creadores/ficha/42/Homero-Exposito'],\n",
      "    u'lyrics': [   u'\\xa1A bailar, a bailar',\n",
      "                   u'<br>',\n",
      "                   u'que la orquesta se va!',\n",
      "                   u'<br>',\n",
      "                   u'<br>',\n",
      "                   u'Sobre el fino garabato',\n",
      "                   u'<br>',\n",
      "                   u'de un tango nervioso y lerdo',\n",
      "                   u'<br>',\n",
      "                   u'se ir\\xe1 borrando el recuerdo...',\n",
      "                   u'<br>',\n",
      "                   u'<br>',\n",
      "                   u'\\xa1A bailar, a bailar',\n",
      "                   u'<br>',\n",
      "                   u'que la orquesta se va!',\n",
      "                   u'<br>',\n",
      "                   u'<br>',\n",
      "                   u'El \\xfaltimo tango perfuma la noche,',\n",
      "                   u'<br>',\n",
      "                   u'un tango dulce que dice adi\\xf3s.',\n",
      "                   u'<br>',\n",
      "                   u'La frase callada se asoma a los labios',\n",
      "                   u'<br>',\n",
      "                   u'\\xa1y canta el tango la despedida!',\n",
      "                   u'<br>',\n",
      "                   u'\\xa1Vamos! \\xa1A bailar!',\n",
      "                   u'<br>',\n",
      "                   u'Tal vez no vuelvas a verla nunca,',\n",
      "                   u'<br>',\n",
      "                   u'y el \\xfaltimo tango perfuma la noche',\n",
      "                   u'<br>',\n",
      "                   u'y este es el tango que dice el adi\\xf3s.',\n",
      "                   u'<br>',\n",
      "                   u'<br>',\n",
      "                   u'\\xa1A bailar, a bailar',\n",
      "                   u'<br>',\n",
      "                   u'que la orquesta se va!',\n",
      "                   u'<br>',\n",
      "                   u'<br>',\n",
      "                   u'Quedar\\xe1 el sal\\xf3n vac\\xedo',\n",
      "                   u'<br>',\n",
      "                   u'con un mont\\xf3n de esperanzas',\n",
      "                   u'<br>',\n",
      "                   u'que ir\\xe1n camino al olvido.',\n",
      "                   u'<br>',\n",
      "                   u'<br>',\n",
      "                   u'\\xa1A bailar, a bailar',\n",
      "                   u'<br>',\n",
      "                   u'que la orquesta se va!'],\n",
      "    u'recordings': [   {   u'r_description': [   u'5-11-1943 Buenos Aires RCA-Victor 60-0271 77360'],\n",
      "                           u'r_performer': [u'An\\xedbal Troilo'],\n",
      "                           u'r_performer_type': [u'Orquesta'],\n",
      "                           u'r_type': [u'Tango'],\n",
      "                           u'r_vocal': [u'Canta Francisco Fiorentino']},\n",
      "                       {   u'r_description': [   u'8-11-1943 Buenos Aires Odeon 5558 13342'],\n",
      "                           u'r_performer': [u'Ricardo Malerba'],\n",
      "                           u'r_performer_type': [u'Orquesta'],\n",
      "                           u'r_type': [u'Tango'],\n",
      "                           u'r_vocal': [u'Canta Orlando Medina']},\n",
      "                       {   u'r_description': [   u'1967 Buenos Aires Music Hall 2136'],\n",
      "                           u'r_performer': [u'Jos\\xe9 Basso'],\n",
      "                           u'r_performer_type': [u'Orquesta'],\n",
      "                           u'r_type': [u'Tango'],\n",
      "                           u'r_vocal': [u'Canta Alfredo Belusi']}],\n",
      "    u'scores': [   u'http://images.todotango.com/partituras/pixel.gif',\n",
      "                   u'http://images.todotango.com/partituras/pixel.gif',\n",
      "                   u'http://images.todotango.com/partituras/pixel.gif',\n",
      "                   u'http://images.todotango.com/partituras/pixel.gif'],\n",
      "    u'title': u'A bailar',\n",
      "    u'video': [],\n",
      "    u'work_type': u'Tango',\n",
      "    u'work_url': u'http://www.todotango.com/musica/tema/130/A-bailar/',\n",
      "    u'year': u'1943'}\n",
      "5643\n",
      "9651\n"
     ]
    }
   ],
   "source": [
    "num_lyrics = 0\n",
    "for i in works:\n",
    "    if i['work_url']=='http://www.todotango.com/musica/tema/130/A-bailar/':\n",
    "        pp.pprint(i)\n",
    "    if len(i['lyrics']):\n",
    "        num_lyrics +=1\n",
    "print num_lyrics\n",
    "print len(works)"
   ]
  },
  {
   "cell_type": "code",
   "execution_count": 119,
   "metadata": {
    "collapsed": false
   },
   "outputs": [
    {
     "name": "stdout",
     "output_type": "stream",
     "text": [
      "{   u'all_compositions': [],\n",
      "    u'articles': [   u'http://www.todotango.com/historias/cronica/382/Bertero-Una-charla-con-Fabian-Bertero-en-mi-casa/',\n",
      "                     u'http://www.todotango.com/historias/cronica/452/Orquesta-Tipica-Miguel-Calo/',\n",
      "                     u'http://www.todotango.com/historias/cronica/493/Sexteto-Mayor-Pasa-el-tiempo-y-no-envejece/'],\n",
      "    u'artist_url': u'http://www.todotango.com/creadores/ficha/3933/Mario-Abramovich',\n",
      "    u'audio': [],\n",
      "    u'biography': [   u'http://www.todotango.com/creadores/biografia/1728/Mario-Abramovich/'],\n",
      "    u'category': u'Violinista y compositor',\n",
      "    u'compositions': [],\n",
      "    u'dates': u'(31 octubre 1926 - 1 diciembre 2014)',\n",
      "    u'img': u'http://images.todotango.com/creadores/semblanzas/mabramovich.jpg',\n",
      "    u'lyrics': [],\n",
      "    u'name': u'Mario Abramovich',\n",
      "    u'place_b': [u' Buenos Aires Argentina'],\n",
      "    u'pseudonym': None,\n",
      "    u'real_name': u'Abramovich, Mois\\xe9s',\n",
      "    u'recordings': [],\n",
      "    u'video': []}\n"
     ]
    }
   ],
   "source": [
    "pp.pprint(artists[1])"
   ]
  },
  {
   "cell_type": "code",
   "execution_count": 120,
   "metadata": {
    "collapsed": false
   },
   "outputs": [
    {
     "data": {
      "text/plain": [
       "{u'article_url': u'http://www.todotango.com/historias/cronica/2/Los-Sonidos-del-Centenario/',\n",
       " u'artists_rel': [u'http://www.todotango.com/creadores/ficha/791/Alfredo-Bevilacqua',\n",
       "  u'http://www.todotango.com/creadores/ficha/512/Franz-Lehar',\n",
       "  u'http://www.todotango.com/creadores/ficha/309/Prudencio-Aragon',\n",
       "  u'http://www.todotango.com/creadores/ficha/341/Vicente-Greco'],\n",
       " u'authors': [u'../../../../comunidad/colaboradores/colaborador.aspx?id=7'],\n",
       " u'content': [u'o que sigue es una breve semblanza de los aspectos m\\xe1s importantes y curiosos vinculados con los sonidos musicales originados por los festejos del primer Centenario de la Revoluci\\xf3n de Mayo de 1810.',\n",
       "  u'<br>',\n",
       "  u'<br>',\n",
       "  u'<img src=\"http://images.todotango.com/historias/lustrabotas.jpg\" title=\"Los parroquianos se reun\\xedan en los salones de lustrabotas para escuchar el gram\\xf3fono. El surgimiento del disco contribuy\\xf3 decisivamente a la popularidad del tango.\">',\n",
       "  u'<br>',\n",
       "  u'<br>',\n",
       "  u'El tango ya era danza porte\\xf1a consolidada y el bandone\\xf3n hab\\xeda sabido instalarse orgullosamente en manos de excelentes m\\xfasicos para definir, con puro arte, su personalidad mel\\xf3dica y r\\xedtmica definitiva.',\n",
       "  u'<br>',\n",
       "  u'<br>',\n",
       "  u'Tanto las bandas como las rondallas, con un lugar muy destacado ya en el \\xfaltimo cuarto del siglo pasado, manten\\xedan todav\\xeda su vigencia plena ofreciendo interpretaciones de g\\xe9neros populares, conciertos de m\\xfasica cl\\xe1sica y fragmentos de \\xf3peras muy solicitadas por la colonia italiana radicada en Buenos Aires.',\n",
       "  u'<br>',\n",
       "  u'<br>',\n",
       "  u'<img src=\"http://images.todotango.com/historias/el_choclo.gif\" align=\"right\" title=\"El Choclo, por la Banda Espa\\xf1ola\">',\n",
       "  u'Todas las bandas en ese a\\xf1o de 1910 inclu\\xedan en sus repertorios gran cantidad de tangos como los infaltables \\u201c',\n",
       "  u'<a href=\"http://www.todotango.com/musica/tema/24/El-choclo/\">El choclo</a>',\n",
       "  u'\\u201d y \\u201c',\n",
       "  u'<a href=\"http://www.todotango.com/musica/tema/417/La-morocha/\">La morocha</a>',\n",
       "  u'\\u201d, junto con \\u201c',\n",
       "  u'<a href=\"http://www.todotango.com/musica/tema/4987/El-otario/\">El otario</a>',\n",
       "  u'\\u201d, \\u201cNi f\\xf3sforos\\u201d, \\u201c',\n",
       "  u'<a href=\"http://www.todotango.com/musica/tema/2587/Joaquina/\">Joaquina</a>',\n",
       "  u'\\u201d, \\u201c',\n",
       "  u'<a href=\"http://www.todotango.com/musica/tema/559/El-entrerriano/\">El entrerriano</a>',\n",
       "  u'\\u201d, \\u201cDon Juan\\u201d, \\u201c',\n",
       "  u'<a href=\"http://www.todotango.com/musica/tema/492/La-catrera/\">La catrera</a>',\n",
       "  u'\\u201d, \\u201c',\n",
       "  u'<a href=\"http://www.todotango.com/musica/tema/819/El-Portenito/\">El Porte\\xf1ito</a>',\n",
       "  u'\\u201d y tant\\xedsimos m\\xe1s. Completaban sus repertorios musicales con mazurcas, polcas, valses, maxixas, aires nacionales, zarzuelas y la ineludible \\u201cViuda alegre\\u201d de ',\n",
       "  u'<a href=\"http://www.todotango.com/creadores/ficha/512/Franz-Lehar\">Franz Lehar</a>',\n",
       "  u'.',\n",
       "  u'<br>',\n",
       "  u'<br>',\n",
       "  u\"Varias bandas se destacaron por su labor copiosa en ese a\\xf1o: la Banda de la Polic\\xeda Federal, que dirig\\xeda F\\xe9lix Rizzuti, padre del m\\xfasico, pianista, compositor y director Jos\\xe9 Mar\\xeda Rizzuti; la Banda Municipal de la Ciudad de Buenos Aires fundada ese mismo a\\xf1o y dirigida por Antonio Malvagni; las bandas del Pabell\\xf3n de las Rosas y del Parque Japon\\xe9s \\u2014ambas dirigidas por Gaetano D'Alo\\u2014 quien con esta \\xfaltima inaugurara en los carnavales el sal\\xf3n de baile del Parque.\",\n",
       "  u'<br>',\n",
       "  u'<br>',\n",
       "  u'Las rondallas amenizaban principalmente los bailes de reuniones y agrupaciones espa\\xf1olas con m\\xfasicos que tocaban todo tipo de instrumentos de cuerdas: rondallas Jos\\xe9 V\\xe1zquez, Bret\\xf3n y ',\n",
       "  u'<a href=\"http://www.todotango.com/creadores/ficha/309/Prudencio-Aragon\">Prudencio Arag\\xf3n</a>',\n",
       "  u'. Al igual que las bandas, las rondallas tocaban tangos y dejaron grabados buena cantidad de discos.',\n",
       "  u'<br>',\n",
       "  u'<br>',\n",
       "  u'<img src=\"http://images.todotango.com/historias/la_catrera.gif\" align=\"left\" title=\"La catrera, por la rondalla del Gaucho Rel\\xe1mpago\">',\n",
       "  u'En las academias, que no eran otra cosa que lugares para bailar, todav\\xeda segu\\xedan vigentes los organillos, orquestones y pianolas que funcionaban con fichas que pagaban los bailarines. Esas m\\xe1quinas musicales mec\\xe1nicas, en su mayor\\xeda construidas en Italia, Alemania y Francia, estaban provistas, algunas con cilindros de madera y otras con cilindros de bronce. En la superficie sobresal\\xedan centenares de \\xabclavos\\xbb de madera o acero dispuestos apropiadamente, cada uno de ellos representando la nota adecuada, para que al girar el cilindro una vuelta completa se accionara el mecanismo y tocara la pieza musical elegida.',\n",
       "  u'<br>',\n",
       "  u'<br>',\n",
       "  u'Una de las piezas m\\xe1s solicitadas era \\u201cLa Brasilera\\u201d, habanera de Arche, por lo cual estaba presente en muchas de esas m\\xe1quinas.',\n",
       "  u'<br>',\n",
       "  u'<br>',\n",
       "  u'El piano, los d\\xfaos, tr\\xedos, cuartetos y quintetos integrados con m\\xfasicos flautistas, violinistas y principalmente bandoneonistas, fueron suplantando en poco tiempo m\\xe1s a esos instrumentos musicales autom\\xe1ticos que hicieran su aparici\\xf3n en el mundo en el siglo anterior.',\n",
       "  u'<br>',\n",
       "  u'<br>',\n",
       "  u'No ocurri\\xf3 lo mismo con el organito callejero, sostenido con gruesa correa de cuero a la espalda del organillero caminador de los barrios, que con sus peque\\xf1os fuelles soplaba melod\\xedas en tangos valses y zarzuelas, siempre esperado para o\\xedrlo y disfrutarlo por grandes y chicos. A ese organito callejero le pertenece el honor de haber sido el difusor musical m\\xe1s directo y el de mayor vigencia entre el pueblo, desde aquel organillero italiano a quien se le otorgara el primer permiso en el a\\xf1o 1842.',\n",
       "  u'<br>',\n",
       "  u'<br>',\n",
       "  u'<img src=\"http://images.todotango.com/historias/infanta.jpg\" title=\"La infanta Isabel en su visita a Buenos Aires durante las fiestas del Centenario.\">',\n",
       "  u'<br>',\n",
       "  u'<br>',\n",
       "  u'En ese 1910 y para los festejos patrios llega a Buenos Aires la Infanta Isabel, de Espa\\xf1a, ',\n",
       "  u'<a href=\"http://www.todotango.com/creadores/ficha/341/Vicente-Greco\">Vicente Greco</a>',\n",
       "  u' le dedica un tango de su autor\\xeda: La Infanta. Por su parte, cuando Guillermo Marconi, ya en estas playas y en ese mismo a\\xf1o, realiza con \\xe9xito la primera comunicaci\\xf3n telegr\\xe1fica por radio desde Europa a Buenos Aires, ',\n",
       "  u'<a href=\"http://www.todotango.com/creadores/ficha/791/Alfredo-Bevilacqua\">Alfredo Bevilacqua</a>',\n",
       "  u' compone y le dedica su tango \\u201cMarconi\\u201d.',\n",
       "  u'<br>',\n",
       "  u'<br>',\n",
       "  u'Al a\\xf1o 10 le toc\\xf3 el placer de ver c\\xf3mo convivieron armoniosamente, m\\xfasicos, m\\xe1quinas musicales, organitos callejeros, junto a las j\\xf3venes y orgullosas m\\xe1quinas parlantes reproductoras de cilindros y discos: los fon\\xf3grafos y gram\\xf3fonos, convertidas estas, a\\xfan j\\xf3venes maravillas cient\\xedficas, en el principal veh\\xedculo difusor social de acontecimientos art\\xedsticos.',\n",
       "  u'<br>',\n",
       "  u'<br>',\n",
       "  u'<img src=\"http://images.todotango.com/historias/tono_perfecto.gif\" align=\"right\" title=\"Amores Brasile\\xf1os, por la Banda Espa\\xf1ola\">',\n",
       "  u'Fue \\xe9ste un a\\xf1o exitoso comercialmente para las casas que vend\\xedan estas m\\xe1quinas parlantes con sus discos o cilindros de cera. Una de ellas fue la de Jos\\xe9 Tagini, en Avenida de Mayo y Per\\xfa, en donde se produce el bautismo de la denominaci\\xf3n \\xaborquesta t\\xedpica criolla\\xbb asignada a ',\n",
       "  u'<a href=\"http://www.todotango.com/creadores/ficha/341/Vicente-Greco\">Vicente Greco</a>',\n",
       "  u' cuando realiza en esa casa, y a fines de ese a\\xf1o, la primera grabaci\\xf3n del tango Rosendo de Genaro V\\xe1zquez; todo un acontecimiento.',\n",
       "  u'<br>',\n",
       "  u'<br>',\n",
       "  u'Para los festejos llegaron a Buenos Aires m\\xe1s de un centenar de grabaciones criollas realizadas por bandas y orquestas, en las cuales prevalec\\xedan los tangos: de Francia, la Banda de la Guardia Republicana de Par\\xeds y la Banda Path\\xe9; de Italia, la Banda de Milano; de Espa\\xf1a, la Banda Espa\\xf1ola; de Alemania, la Orquesta Beka y la banda Homokord y de Estados Unidos, la banda Edison y la Orquesta Promenade.',\n",
       "  u'<br>',\n",
       "  u'<br>',\n",
       "  u'Esto es, en apretada s\\xedntesis, el espectro musical que el pueblo pudo escuchar en ese a\\xf1o de 1910.'],\n",
       " u'title': u'Los Sonidos del Centenario',\n",
       " u'works_rel': [u'http://www.todotango.com/musica/tema/24/El-choclo/',\n",
       "  u'http://www.todotango.com/musica/tema/559/El-entrerriano/',\n",
       "  u'http://www.todotango.com/musica/tema/4987/El-otario/',\n",
       "  u'http://www.todotango.com/musica/tema/819/El-Portenito/',\n",
       "  u'http://www.todotango.com/musica/tema/2587/Joaquina/',\n",
       "  u'http://www.todotango.com/musica/tema/492/La-catrera/',\n",
       "  u'http://www.todotango.com/musica/tema/417/La-morocha/']}"
      ]
     },
     "execution_count": 120,
     "metadata": {},
     "output_type": "execute_result"
    }
   ],
   "source": [
    "articles[2]"
   ]
  },
  {
   "cell_type": "code",
   "execution_count": 121,
   "metadata": {
    "collapsed": false
   },
   "outputs": [
    {
     "data": {
      "text/plain": [
       "{u'article_url': u'http://www.todotango.com/creadores/biografia/1361/Ikuo-Abo/',\n",
       " u'artists_rel': [u'http://www.todotango.com/creadores/ficha/300/Edmundo-Rivero',\n",
       "  u'http://www.todotango.com/creadores/ficha/1954/Enrique-Dumas',\n",
       "  u'http://www.todotango.com/creadores/ficha/1872/Fernando-Tell',\n",
       "  u'http://www.todotango.com/creadores/ficha/851/Ranko-Fujisawa'],\n",
       " u'authors': [u'../../../../comunidad/colaboradores/colaborador.aspx?id=74'],\n",
       " u'content': [u'ste querido int\\xe9rprete japon\\xe9s, de voz potente y timbre de bar\\xedtono atenorado, nunca aprendi\\xf3 el idioma espa\\xf1ol y, al igual que su colega, ',\n",
       "  u'<a href=\"http://www.todotango.com/creadores/ficha/851/Ranko-Fujisawa\">Ranko Fujisawa</a>',\n",
       "  u', se vali\\xf3 para hacerlo \\u2014y vaya que lo hizo bien\\u2014, de estrictos recursos fon\\xe9ticos.',\n",
       "  u'<br>',\n",
       "  u'<br>',\n",
       "  u'Naci\\xf3 en Hirosaki, ciudad de Aomori, al norte de Jap\\xf3n. Inici\\xf3 su carrera de cantor de tangos con sus maestros Ricardo Francia y ',\n",
       "  u'<a href=\"http://www.todotango.com/creadores/ficha/1872/Fernando-Tell\">Fernando Tell</a>',\n",
       "  u' quienes, durante sus estad\\xedas en Jap\\xf3n, mucho hicieron por difundir nuestra m\\xfasica popular. Su encuentro con estos dos m\\xfasicos argentinos fue decisivo para llegar a su realizaci\\xf3n como artista',\n",
       "  u'<br>',\n",
       "  u'<br>',\n",
       "  u'Durante los a\\xf1os 1959 y 1960, curs\\xf3 estudios universitarios en Ritsumeikan y, posteriormente, hizo su debut en octubre de 1961 en el programa ',\n",
       "  u'<i>Plaza de Canci\\xf3n</i>',\n",
       "  u' de NHK, que es la emisora principal de Jap\\xf3n.',\n",
       "  u'<br>',\n",
       "  u'<br>',\n",
       "  u'En febrero de 1964, particip\\xf3 de la gira por Argentina con ',\n",
       "  u'<a href=\"http://www.todotango.com/creadores/ficha/851/Ranko-Fujisawa\">Ranko Fujisawa</a>',\n",
       "  u' y el maestro Shinpei Hayakawa, director de la Orquesta T\\xedpica Tokyo. Durante la misma, Ikuo no s\\xf3lo particip\\xf3 en el popular programa Casino Philips, que transmit\\xeda canal 13, sino que, adem\\xe1s, realiz\\xf3 su primera grabaci\\xf3n en RCA de Argentina, en abril de ese mismo a\\xf1o. Grab\\xf3, entre otros temas, \\u201c',\n",
       "  u'<a href=\"http://www.todotango.com/musica/tema/908/La-ultima-copa/\">La \\xfaltima copa</a>',\n",
       "  u'\\u201d, \\u201c',\n",
       "  u'<a href=\"http://www.todotango.com/musica/tema/2158/Rie-payaso/\">R\\xede payaso</a>',\n",
       "  u'\\u201d y \\u201c',\n",
       "  u'<a href=\"http://www.todotango.com/musica/tema/434/Mi-dolor/\">Mi dolor</a>',\n",
       "  u'\\u201d, llegando a ganar un premio instituido entonces por la Sociedad de Autores y Compositores (SADAIC).',\n",
       "  u'<br>',\n",
       "  u'<br>',\n",
       "  u'Luego continu\\xf3 la gira por otros pa\\xedses sudamericanos: Per\\xfa, Ecuador y Colombia, realizando grabaciones en cada uno de ellos, en las empresas discogr\\xe1ficas: RCA de Per\\xfa; Orion de Ecuador y Sonolux de Colombia. A fines de noviembre de ese mismo a\\xf1o, regres\\xf3 a su pa\\xeds.',\n",
       "  u'<br>',\n",
       "  u'<br>',\n",
       "  u'Fue cantor de la Orquesta T\\xedpica de Masaichi Sakamoto y del Quinteto de Kyotani Kouji.',\n",
       "  u'<br>',\n",
       "  u'<br>',\n",
       "  u'En octubre de 1965, fue invitado por Canal 13 de Argentina a participar en el programa ',\n",
       "  u'<i>S\\xe1bados Circulares</i>',\n",
       "  u', en el que actu\\xf3 durante un largo per\\xedodo, llegando a alcanzar gran popularidad. De esa \\xe9poca son sus registros de \\u201c',\n",
       "  u'<a href=\"http://www.todotango.com/musica/tema/585/Tomo-y-obligo/\">Tomo y obligo</a>',\n",
       "  u'\\u201d; \\u201c',\n",
       "  u'<a href=\"http://www.todotango.com/musica/tema/91/En-esta-tarde-gris/\">En esta tarde gris</a>',\n",
       "  u'\\u201d y \\u201c',\n",
       "  u'<a href=\"http://www.todotango.com/musica/tema/1215/Lo-han-visto-con-otra/\">Lo han visto con otra</a>',\n",
       "  u'\\u201d, entre otros. Particip\\xf3, adem\\xe1s, en la pel\\xedcula ',\n",
       "  u'<i>Viaje de una noche de verano</i>',\n",
       "  u', donde cant\\xf3 junto a ',\n",
       "  u'<a href=\"http://www.todotango.com/creadores/ficha/851/Ranko-Fujisawa\">Ranko Fujisawa</a>',\n",
       "  u', N\\xe9stor Fabi\\xe1n y ',\n",
       "  u'<a href=\"http://www.todotango.com/creadores/ficha/1954/Enrique-Dumas\">Enrique Dumas</a>',\n",
       "  u'.',\n",
       "  u'<br>',\n",
       "  u'<br>',\n",
       "  u'Entre las giras internacionales que cumpli\\xf3 luego, se recuerdan sus viajes por: Espa\\xf1a (1967), Puerto Rico, los Estados Unidos y Venezuela (1968), grabando en los sellos: Belter, de Espa\\xf1a; Caribe, de Puerto Rico; Alegre y otros de Estados Unidos; y Mavilu de Venezuela. Volvi\\xf3 a su patria en mayo. Tambi\\xe9n en octubre de ese a\\xf1o 1968, grab\\xf3 para Polydor, un disco long play titulado ',\n",
       "  u'<i>Tango del alma</i>',\n",
       "  u'.',\n",
       "  u'<br>',\n",
       "  u'<br>',\n",
       "  u'En 1975 realiz\\xf3 nuevas giras por Argentina, Brasil y Portugal, incursionando en nuevos g\\xe9neros: tango, folclore, choro y fado, llegando a grabar 120 discos ',\n",
       "  u'<br>',\n",
       "  u'<br>',\n",
       "  u'En enero de 1987, grab\\xf3 el compacto ',\n",
       "  u'<i>Tango del amor</i>',\n",
       "  u'  (Meldac), con el acompa\\xf1amiento orquestal de Jos\\xe9 Col\\xe1ngelo. En ese disco dej\\xf3 registrado mi tango \\u201c',\n",
       "  u'<a href=\"http://www.todotango.com/musica/tema/1060/A-lo-Megata/\">A lo Megata</a>',\n",
       "  u'\\u201d, que lleva m\\xfasica de ',\n",
       "  u'<a href=\"http://www.todotango.com/creadores/ficha/300/Edmundo-Rivero\">Edmundo Rivero</a>',\n",
       "  u'. Este tango hab\\xeda sido estrenado por Ikuo en Jap\\xf3n, el 23 de junio de 1983, en el teatro Asahi-Seimei de Tokio, con el acompa\\xf1amiento de Koyi Kyotani y su Tango Tr\\xedo. Otro disco de ese mismo a\\xf1o es ',\n",
       "  u'<i>Che bandone\\xf3n</i>',\n",
       "  u'  (Polydor). Estos dos materiales fonogr\\xe1ficos tuvieron una gran aceptaci\\xf3n y se vendieron muy bien.',\n",
       "  u'<br>',\n",
       "  u'<br>',\n",
       "  u'En 1997, con motivo de cumplir sus sesenta a\\xf1os, volvi\\xf3 a su actividad preferida: la de cantar en p\\xfablico, realizando entonces una serie de conciertos y, al a\\xf1o siguiente, m\\xe1s precisamente en el mes de febrero, grab\\xf3 con gran repercusi\\xf3n, el disco compacto ',\n",
       "  u'<i>Ma\\xf1ana zarpa un barco</i>',\n",
       "  u'.',\n",
       "  u'<br>',\n",
       "  u'<br>',\n",
       "  u'El 2001 fue el a\\xf1o del gran desaf\\xedo. Realiz\\xf3 para la televisi\\xf3n nipona su propio programa sobre el teatro hist\\xf3rico japon\\xe9s, con su canto tem\\xe1tico al que denomin\\xf3 Viento. En octubre de ese a\\xf1o, sufri\\xf3 una trombosis cerebral de la que, gradualmente, se ha ido recuperando.',\n",
       "  u'<br>',\n",
       "  u'<br>',\n",
       "  u'Desde el 2004 se dedica a la ense\\xf1anza. Da clases de canto y dirige un curso cultural, patrocinado por el diario Yomiuri y el canal de televisi\\xf3n Nihon.',\n",
       "  u'<br>',\n",
       "  u'<br>',\n",
       "  u'Me ha sido posible realizar esta semblanza, gracias a la informaci\\xf3n que me enviara el Sr. Mamoru Yamagata.',\n",
       "  u'<br>'],\n",
       " u'works_rel': [u'http://www.todotango.com/musica/tema/1060/A-lo-Megata/',\n",
       "  u'http://www.todotango.com/musica/tema/91/En-esta-tarde-gris/',\n",
       "  u'http://www.todotango.com/musica/tema/908/La-ultima-copa/',\n",
       "  u'http://www.todotango.com/musica/tema/1215/Lo-han-visto-con-otra/',\n",
       "  u'http://www.todotango.com/musica/tema/434/Mi-dolor/',\n",
       "  u'http://www.todotango.com/musica/tema/2158/Rie-payaso/',\n",
       "  u'http://www.todotango.com/musica/tema/585/Tomo-y-obligo/']}"
      ]
     },
     "execution_count": 121,
     "metadata": {},
     "output_type": "execute_result"
    }
   ],
   "source": [
    "bios[0]"
   ]
  },
  {
   "cell_type": "code",
   "execution_count": 122,
   "metadata": {
    "collapsed": false
   },
   "outputs": [
    {
     "data": {
      "text/plain": [
       "{u'significate': [u'(futb.) Finta en el f\\xfatbol.'],\n",
       " u'word': [u'amague'],\n",
       " u'word_url': u'http://www.todotango.com/comunidad/lunfardo/termino.aspx?p=amague',\n",
       " u'works': [u'http://www.todotango.com/musica/tema/981/Che-Gomina/',\n",
       "  u'http://www.todotango.com/musica/tema/2640/Como-se-baila-un-tango/',\n",
       "  u'http://www.todotango.com/musica/tema/4459/No-me-tires-con-la-tapa-de-la-olla/',\n",
       "  u'http://www.todotango.com/musica/tema/6202/Soy-ese-volvedor/',\n",
       "  u'http://www.todotango.com/musica/tema/1012/Un-partido-al-truco/']}"
      ]
     },
     "execution_count": 122,
     "metadata": {},
     "output_type": "execute_result"
    }
   ],
   "source": [
    "vocab[10]"
   ]
  },
  {
   "cell_type": "code",
   "execution_count": 16,
   "metadata": {
    "collapsed": false
   },
   "outputs": [],
   "source": [
    "#Load map with all the work with this vocabulary\n",
    "works_rel = {}\n",
    "for i in vocab:\n",
    "    for j in i['works']:\n",
    "        if not j in works_rel:\n",
    "            works_rel[j] = 0\n",
    "        works_rel[j] +=1\n",
    "        \n",
    "# For each year count number of works in works_rel\n",
    "years = {}\n",
    "all_works_years = {}\n",
    "for w in works:\n",
    "    if w['work_url'] in works_rel:\n",
    "        if not w['year'] in years:\n",
    "            years[w['year']] = 0\n",
    "        years[w['year']] += 1\n",
    "    \n",
    "    if not w['year'] in all_works_years:\n",
    "        all_works_years[w['year']] = 0\n",
    "    all_works_years[w['year']] += 1.0\n",
    "    \n",
    "for i in years.keys():\n",
    "    years[i] = 100 * years[i]/all_works_years[i]\n",
    "del years[None]\n",
    "\n",
    "del all_works_years[None]"
   ]
  },
  {
   "cell_type": "code",
   "execution_count": 17,
   "metadata": {
    "collapsed": false
   },
   "outputs": [],
   "source": [
    "import matplotlib.pyplot as plt\n",
    "%matplotlib inline"
   ]
  },
  {
   "cell_type": "code",
   "execution_count": 19,
   "metadata": {
    "collapsed": false
   },
   "outputs": [
    {
     "data": {
      "image/png": "[encoded data removed]",
      "text/plain": [
       "<matplotlib.figure.Figure at 0x7ff53207c5d0>"
      ]
     },
     "metadata": {},
     "output_type": "display_data"
    },
    {
     "data": {
      "image/png": "[encoded data removed]",
      "text/plain": [
       "<matplotlib.figure.Figure at 0x7ff531bf4c10>"
      ]
     },
     "metadata": {},
     "output_type": "display_data"
    }
   ],
   "source": [
    "plt.bar([int(i) for i in all_works_years.keys() ], all_works_years.values())\n",
    "plt.show()\n",
    "\n",
    "plt.bar([int(i) for i in years.keys() ], years.values())\n",
    "plt.show()"
   ]
  },
  {
   "cell_type": "code",
   "execution_count": null,
   "metadata": {
    "collapsed": true
   },
   "outputs": [],
   "source": []
  }
 ],
 "metadata": {
  "kernelspec": {
   "display_name": "Python 2",
   "language": "python",
   "name": "python2"
  },
  "language_info": {
   "codemirror_mode": {
    "name": "ipython",
    "version": 2
   },
   "file_extension": ".py",
   "mimetype": "text/x-python",
   "name": "python",
   "nbconvert_exporter": "python",
   "pygments_lexer": "ipython2",
   "version": "2.7.10"
  }
 },
 "nbformat": 4,
 "nbformat_minor": 1
}
